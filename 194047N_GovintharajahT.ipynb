{
  "nbformat": 4,
  "nbformat_minor": 0,
  "metadata": {
    "colab": {
      "provenance": [],
      "toc_visible": true
    },
    "kernelspec": {
      "name": "python3",
      "display_name": "Python 3"
    },
    "language_info": {
      "name": "python"
    }
  },
  "cells": [
    {
      "cell_type": "markdown",
      "source": [
        "# General\n"
      ],
      "metadata": {
        "id": "q17_UIKCzKjM"
      }
    },
    {
      "cell_type": "code",
      "execution_count": 983,
      "metadata": {
        "id": "GH-pHKm8s_1I"
      },
      "outputs": [],
      "source": [
        "import pandas as pd\n",
        "import numpy as np\n",
        "import matplotlib.pyplot as plt\n",
        "import scipy.stats as stats\n",
        "from scipy.stats import skew"
      ]
    },
    {
      "cell_type": "code",
      "source": [
        "from google.colab import drive\n",
        "drive.mount('/content/drive')"
      ],
      "metadata": {
        "colab": {
          "base_uri": "https://localhost:8080/"
        },
        "id": "cSm4H8nbwFM2",
        "outputId": "3950c167-7f5d-4d3b-a682-170ea5d9c38d"
      },
      "execution_count": 984,
      "outputs": [
        {
          "output_type": "stream",
          "name": "stdout",
          "text": [
            "Drive already mounted at /content/drive; to attempt to forcibly remount, call drive.mount(\"/content/drive\", force_remount=True).\n"
          ]
        }
      ]
    },
    {
      "cell_type": "markdown",
      "source": [
        "### Loading of dataset as dataframe"
      ],
      "metadata": {
        "id": "fXS0dwKYzs3a"
      }
    },
    {
      "cell_type": "code",
      "source": [
        "df=pd.read_csv(\"drive/MyDrive/Colab Notebooks/ANN assignment/Employee.csv\")"
      ],
      "metadata": {
        "id": "AmIsPLM7trMC"
      },
      "execution_count": 985,
      "outputs": []
    },
    {
      "cell_type": "code",
      "source": [
        "df.head()"
      ],
      "metadata": {
        "colab": {
          "base_uri": "https://localhost:8080/",
          "height": 206
        },
        "id": "7Ircmgxqw570",
        "outputId": "9a07da98-e1f8-40f4-ae42-78e7cbedde1d"
      },
      "execution_count": 986,
      "outputs": [
        {
          "output_type": "execute_result",
          "data": {
            "text/plain": [
              "   Education  JoiningYear       City  PaymentTier  Age  Gender EverBenched  \\\n",
              "0  Bachelors         2017  Bangalore            3   34    Male          No   \n",
              "1  Bachelors         2013       Pune            1   28  Female          No   \n",
              "2  Bachelors         2014  New Delhi            3   38  Female          No   \n",
              "3    Masters         2016  Bangalore            3   27    Male          No   \n",
              "4    Masters         2017       Pune            3   24    Male         Yes   \n",
              "\n",
              "   ExperienceInCurrentDomain  LeaveOrNot  \n",
              "0                          0           0  \n",
              "1                          3           1  \n",
              "2                          2           0  \n",
              "3                          5           1  \n",
              "4                          2           1  "
            ],
            "text/html": [
              "\n",
              "  <div id=\"df-1c6b9c1f-8bab-4e90-9c1d-0a94c5940751\" class=\"colab-df-container\">\n",
              "    <div>\n",
              "<style scoped>\n",
              "    .dataframe tbody tr th:only-of-type {\n",
              "        vertical-align: middle;\n",
              "    }\n",
              "\n",
              "    .dataframe tbody tr th {\n",
              "        vertical-align: top;\n",
              "    }\n",
              "\n",
              "    .dataframe thead th {\n",
              "        text-align: right;\n",
              "    }\n",
              "</style>\n",
              "<table border=\"1\" class=\"dataframe\">\n",
              "  <thead>\n",
              "    <tr style=\"text-align: right;\">\n",
              "      <th></th>\n",
              "      <th>Education</th>\n",
              "      <th>JoiningYear</th>\n",
              "      <th>City</th>\n",
              "      <th>PaymentTier</th>\n",
              "      <th>Age</th>\n",
              "      <th>Gender</th>\n",
              "      <th>EverBenched</th>\n",
              "      <th>ExperienceInCurrentDomain</th>\n",
              "      <th>LeaveOrNot</th>\n",
              "    </tr>\n",
              "  </thead>\n",
              "  <tbody>\n",
              "    <tr>\n",
              "      <th>0</th>\n",
              "      <td>Bachelors</td>\n",
              "      <td>2017</td>\n",
              "      <td>Bangalore</td>\n",
              "      <td>3</td>\n",
              "      <td>34</td>\n",
              "      <td>Male</td>\n",
              "      <td>No</td>\n",
              "      <td>0</td>\n",
              "      <td>0</td>\n",
              "    </tr>\n",
              "    <tr>\n",
              "      <th>1</th>\n",
              "      <td>Bachelors</td>\n",
              "      <td>2013</td>\n",
              "      <td>Pune</td>\n",
              "      <td>1</td>\n",
              "      <td>28</td>\n",
              "      <td>Female</td>\n",
              "      <td>No</td>\n",
              "      <td>3</td>\n",
              "      <td>1</td>\n",
              "    </tr>\n",
              "    <tr>\n",
              "      <th>2</th>\n",
              "      <td>Bachelors</td>\n",
              "      <td>2014</td>\n",
              "      <td>New Delhi</td>\n",
              "      <td>3</td>\n",
              "      <td>38</td>\n",
              "      <td>Female</td>\n",
              "      <td>No</td>\n",
              "      <td>2</td>\n",
              "      <td>0</td>\n",
              "    </tr>\n",
              "    <tr>\n",
              "      <th>3</th>\n",
              "      <td>Masters</td>\n",
              "      <td>2016</td>\n",
              "      <td>Bangalore</td>\n",
              "      <td>3</td>\n",
              "      <td>27</td>\n",
              "      <td>Male</td>\n",
              "      <td>No</td>\n",
              "      <td>5</td>\n",
              "      <td>1</td>\n",
              "    </tr>\n",
              "    <tr>\n",
              "      <th>4</th>\n",
              "      <td>Masters</td>\n",
              "      <td>2017</td>\n",
              "      <td>Pune</td>\n",
              "      <td>3</td>\n",
              "      <td>24</td>\n",
              "      <td>Male</td>\n",
              "      <td>Yes</td>\n",
              "      <td>2</td>\n",
              "      <td>1</td>\n",
              "    </tr>\n",
              "  </tbody>\n",
              "</table>\n",
              "</div>\n",
              "    <div class=\"colab-df-buttons\">\n",
              "\n",
              "  <div class=\"colab-df-container\">\n",
              "    <button class=\"colab-df-convert\" onclick=\"convertToInteractive('df-1c6b9c1f-8bab-4e90-9c1d-0a94c5940751')\"\n",
              "            title=\"Convert this dataframe to an interactive table.\"\n",
              "            style=\"display:none;\">\n",
              "\n",
              "  <svg xmlns=\"http://www.w3.org/2000/svg\" height=\"24px\" viewBox=\"0 -960 960 960\">\n",
              "    <path d=\"M120-120v-720h720v720H120Zm60-500h600v-160H180v160Zm220 220h160v-160H400v160Zm0 220h160v-160H400v160ZM180-400h160v-160H180v160Zm440 0h160v-160H620v160ZM180-180h160v-160H180v160Zm440 0h160v-160H620v160Z\"/>\n",
              "  </svg>\n",
              "    </button>\n",
              "\n",
              "  <style>\n",
              "    .colab-df-container {\n",
              "      display:flex;\n",
              "      gap: 12px;\n",
              "    }\n",
              "\n",
              "    .colab-df-convert {\n",
              "      background-color: #E8F0FE;\n",
              "      border: none;\n",
              "      border-radius: 50%;\n",
              "      cursor: pointer;\n",
              "      display: none;\n",
              "      fill: #1967D2;\n",
              "      height: 32px;\n",
              "      padding: 0 0 0 0;\n",
              "      width: 32px;\n",
              "    }\n",
              "\n",
              "    .colab-df-convert:hover {\n",
              "      background-color: #E2EBFA;\n",
              "      box-shadow: 0px 1px 2px rgba(60, 64, 67, 0.3), 0px 1px 3px 1px rgba(60, 64, 67, 0.15);\n",
              "      fill: #174EA6;\n",
              "    }\n",
              "\n",
              "    .colab-df-buttons div {\n",
              "      margin-bottom: 4px;\n",
              "    }\n",
              "\n",
              "    [theme=dark] .colab-df-convert {\n",
              "      background-color: #3B4455;\n",
              "      fill: #D2E3FC;\n",
              "    }\n",
              "\n",
              "    [theme=dark] .colab-df-convert:hover {\n",
              "      background-color: #434B5C;\n",
              "      box-shadow: 0px 1px 3px 1px rgba(0, 0, 0, 0.15);\n",
              "      filter: drop-shadow(0px 1px 2px rgba(0, 0, 0, 0.3));\n",
              "      fill: #FFFFFF;\n",
              "    }\n",
              "  </style>\n",
              "\n",
              "    <script>\n",
              "      const buttonEl =\n",
              "        document.querySelector('#df-1c6b9c1f-8bab-4e90-9c1d-0a94c5940751 button.colab-df-convert');\n",
              "      buttonEl.style.display =\n",
              "        google.colab.kernel.accessAllowed ? 'block' : 'none';\n",
              "\n",
              "      async function convertToInteractive(key) {\n",
              "        const element = document.querySelector('#df-1c6b9c1f-8bab-4e90-9c1d-0a94c5940751');\n",
              "        const dataTable =\n",
              "          await google.colab.kernel.invokeFunction('convertToInteractive',\n",
              "                                                    [key], {});\n",
              "        if (!dataTable) return;\n",
              "\n",
              "        const docLinkHtml = 'Like what you see? Visit the ' +\n",
              "          '<a target=\"_blank\" href=https://colab.research.google.com/notebooks/data_table.ipynb>data table notebook</a>'\n",
              "          + ' to learn more about interactive tables.';\n",
              "        element.innerHTML = '';\n",
              "        dataTable['output_type'] = 'display_data';\n",
              "        await google.colab.output.renderOutput(dataTable, element);\n",
              "        const docLink = document.createElement('div');\n",
              "        docLink.innerHTML = docLinkHtml;\n",
              "        element.appendChild(docLink);\n",
              "      }\n",
              "    </script>\n",
              "  </div>\n",
              "\n",
              "\n",
              "<div id=\"df-490e7d99-059d-4dd9-aab9-721f3280cecc\">\n",
              "  <button class=\"colab-df-quickchart\" onclick=\"quickchart('df-490e7d99-059d-4dd9-aab9-721f3280cecc')\"\n",
              "            title=\"Suggest charts.\"\n",
              "            style=\"display:none;\">\n",
              "\n",
              "<svg xmlns=\"http://www.w3.org/2000/svg\" height=\"24px\"viewBox=\"0 0 24 24\"\n",
              "     width=\"24px\">\n",
              "    <g>\n",
              "        <path d=\"M19 3H5c-1.1 0-2 .9-2 2v14c0 1.1.9 2 2 2h14c1.1 0 2-.9 2-2V5c0-1.1-.9-2-2-2zM9 17H7v-7h2v7zm4 0h-2V7h2v10zm4 0h-2v-4h2v4z\"/>\n",
              "    </g>\n",
              "</svg>\n",
              "  </button>\n",
              "\n",
              "<style>\n",
              "  .colab-df-quickchart {\n",
              "      --bg-color: #E8F0FE;\n",
              "      --fill-color: #1967D2;\n",
              "      --hover-bg-color: #E2EBFA;\n",
              "      --hover-fill-color: #174EA6;\n",
              "      --disabled-fill-color: #AAA;\n",
              "      --disabled-bg-color: #DDD;\n",
              "  }\n",
              "\n",
              "  [theme=dark] .colab-df-quickchart {\n",
              "      --bg-color: #3B4455;\n",
              "      --fill-color: #D2E3FC;\n",
              "      --hover-bg-color: #434B5C;\n",
              "      --hover-fill-color: #FFFFFF;\n",
              "      --disabled-bg-color: #3B4455;\n",
              "      --disabled-fill-color: #666;\n",
              "  }\n",
              "\n",
              "  .colab-df-quickchart {\n",
              "    background-color: var(--bg-color);\n",
              "    border: none;\n",
              "    border-radius: 50%;\n",
              "    cursor: pointer;\n",
              "    display: none;\n",
              "    fill: var(--fill-color);\n",
              "    height: 32px;\n",
              "    padding: 0;\n",
              "    width: 32px;\n",
              "  }\n",
              "\n",
              "  .colab-df-quickchart:hover {\n",
              "    background-color: var(--hover-bg-color);\n",
              "    box-shadow: 0 1px 2px rgba(60, 64, 67, 0.3), 0 1px 3px 1px rgba(60, 64, 67, 0.15);\n",
              "    fill: var(--button-hover-fill-color);\n",
              "  }\n",
              "\n",
              "  .colab-df-quickchart-complete:disabled,\n",
              "  .colab-df-quickchart-complete:disabled:hover {\n",
              "    background-color: var(--disabled-bg-color);\n",
              "    fill: var(--disabled-fill-color);\n",
              "    box-shadow: none;\n",
              "  }\n",
              "\n",
              "  .colab-df-spinner {\n",
              "    border: 2px solid var(--fill-color);\n",
              "    border-color: transparent;\n",
              "    border-bottom-color: var(--fill-color);\n",
              "    animation:\n",
              "      spin 1s steps(1) infinite;\n",
              "  }\n",
              "\n",
              "  @keyframes spin {\n",
              "    0% {\n",
              "      border-color: transparent;\n",
              "      border-bottom-color: var(--fill-color);\n",
              "      border-left-color: var(--fill-color);\n",
              "    }\n",
              "    20% {\n",
              "      border-color: transparent;\n",
              "      border-left-color: var(--fill-color);\n",
              "      border-top-color: var(--fill-color);\n",
              "    }\n",
              "    30% {\n",
              "      border-color: transparent;\n",
              "      border-left-color: var(--fill-color);\n",
              "      border-top-color: var(--fill-color);\n",
              "      border-right-color: var(--fill-color);\n",
              "    }\n",
              "    40% {\n",
              "      border-color: transparent;\n",
              "      border-right-color: var(--fill-color);\n",
              "      border-top-color: var(--fill-color);\n",
              "    }\n",
              "    60% {\n",
              "      border-color: transparent;\n",
              "      border-right-color: var(--fill-color);\n",
              "    }\n",
              "    80% {\n",
              "      border-color: transparent;\n",
              "      border-right-color: var(--fill-color);\n",
              "      border-bottom-color: var(--fill-color);\n",
              "    }\n",
              "    90% {\n",
              "      border-color: transparent;\n",
              "      border-bottom-color: var(--fill-color);\n",
              "    }\n",
              "  }\n",
              "</style>\n",
              "\n",
              "  <script>\n",
              "    async function quickchart(key) {\n",
              "      const quickchartButtonEl =\n",
              "        document.querySelector('#' + key + ' button');\n",
              "      quickchartButtonEl.disabled = true;  // To prevent multiple clicks.\n",
              "      quickchartButtonEl.classList.add('colab-df-spinner');\n",
              "      try {\n",
              "        const charts = await google.colab.kernel.invokeFunction(\n",
              "            'suggestCharts', [key], {});\n",
              "      } catch (error) {\n",
              "        console.error('Error during call to suggestCharts:', error);\n",
              "      }\n",
              "      quickchartButtonEl.classList.remove('colab-df-spinner');\n",
              "      quickchartButtonEl.classList.add('colab-df-quickchart-complete');\n",
              "    }\n",
              "    (() => {\n",
              "      let quickchartButtonEl =\n",
              "        document.querySelector('#df-490e7d99-059d-4dd9-aab9-721f3280cecc button');\n",
              "      quickchartButtonEl.style.display =\n",
              "        google.colab.kernel.accessAllowed ? 'block' : 'none';\n",
              "    })();\n",
              "  </script>\n",
              "</div>\n",
              "    </div>\n",
              "  </div>\n"
            ]
          },
          "metadata": {},
          "execution_count": 986
        }
      ]
    },
    {
      "cell_type": "code",
      "source": [
        "df.info()"
      ],
      "metadata": {
        "colab": {
          "base_uri": "https://localhost:8080/"
        },
        "id": "My2nC6FXyfCp",
        "outputId": "4c208f4c-1bad-477d-c444-2e7377744e2b"
      },
      "execution_count": 987,
      "outputs": [
        {
          "output_type": "stream",
          "name": "stdout",
          "text": [
            "<class 'pandas.core.frame.DataFrame'>\n",
            "RangeIndex: 4653 entries, 0 to 4652\n",
            "Data columns (total 9 columns):\n",
            " #   Column                     Non-Null Count  Dtype \n",
            "---  ------                     --------------  ----- \n",
            " 0   Education                  4653 non-null   object\n",
            " 1   JoiningYear                4653 non-null   int64 \n",
            " 2   City                       4653 non-null   object\n",
            " 3   PaymentTier                4653 non-null   int64 \n",
            " 4   Age                        4653 non-null   int64 \n",
            " 5   Gender                     4653 non-null   object\n",
            " 6   EverBenched                4653 non-null   object\n",
            " 7   ExperienceInCurrentDomain  4653 non-null   int64 \n",
            " 8   LeaveOrNot                 4653 non-null   int64 \n",
            "dtypes: int64(5), object(4)\n",
            "memory usage: 327.3+ KB\n"
          ]
        }
      ]
    },
    {
      "cell_type": "markdown",
      "source": [
        "No null values - So no need of handling missing values"
      ],
      "metadata": {
        "id": "Zc_50CWi1U_O"
      }
    },
    {
      "cell_type": "markdown",
      "source": [
        "### Converting LeaveOrNot column to bool"
      ],
      "metadata": {
        "id": "exmxQIta46Wa"
      }
    },
    {
      "cell_type": "markdown",
      "source": [
        "Since we are going to do binary classification, we are converting it as boolean type from int -->> If it is int - it may be fall under Regression task instead of classification task"
      ],
      "metadata": {
        "id": "TiRM2Ex--NHU"
      }
    },
    {
      "cell_type": "code",
      "source": [
        "df['LeaveOrNot'] = df['LeaveOrNot'].astype(bool) # since we are going to do binary classification, we are converting it as boolean type from int\n",
        "df.dtypes"
      ],
      "metadata": {
        "colab": {
          "base_uri": "https://localhost:8080/"
        },
        "id": "E_jXkho44lsQ",
        "outputId": "82352dea-417a-4a2f-d9e5-18210efae3fe"
      },
      "execution_count": 988,
      "outputs": [
        {
          "output_type": "execute_result",
          "data": {
            "text/plain": [
              "Education                    object\n",
              "JoiningYear                   int64\n",
              "City                         object\n",
              "PaymentTier                   int64\n",
              "Age                           int64\n",
              "Gender                       object\n",
              "EverBenched                  object\n",
              "ExperienceInCurrentDomain     int64\n",
              "LeaveOrNot                     bool\n",
              "dtype: object"
            ]
          },
          "metadata": {},
          "execution_count": 988
        }
      ]
    },
    {
      "cell_type": "markdown",
      "source": [
        "### Removing duplicate rows"
      ],
      "metadata": {
        "id": "Qm_jsWLWzhPo"
      }
    },
    {
      "cell_type": "code",
      "source": [
        "df.duplicated().sum() #check Is there any duplicate value in the dataset"
      ],
      "metadata": {
        "colab": {
          "base_uri": "https://localhost:8080/"
        },
        "id": "d_5C70zv1qq2",
        "outputId": "f1ca1e58-7ce9-48cf-9dcc-768007f6b091"
      },
      "execution_count": 989,
      "outputs": [
        {
          "output_type": "execute_result",
          "data": {
            "text/plain": [
              "1889"
            ]
          },
          "metadata": {},
          "execution_count": 989
        }
      ]
    },
    {
      "cell_type": "code",
      "source": [
        "df.drop_duplicates(inplace=True) # Remove the duplicate values in the dataset\n",
        "df.shape[0] #Printing the no.of rows in the dataframe after dropping duplicate values"
      ],
      "metadata": {
        "colab": {
          "base_uri": "https://localhost:8080/"
        },
        "id": "BwmN0me912Ko",
        "outputId": "ed449f01-27a0-4ee8-e743-d5d4f5552384"
      },
      "execution_count": 990,
      "outputs": [
        {
          "output_type": "execute_result",
          "data": {
            "text/plain": [
              "2764"
            ]
          },
          "metadata": {},
          "execution_count": 990
        }
      ]
    },
    {
      "cell_type": "markdown",
      "source": [
        "If we don't remove duplicate values - then accuracy is increasing, but it's may due to the presence of same rows in test dataset. That's why I removed duplicate rows"
      ],
      "metadata": {
        "id": "oR-GMbiCIVdT"
      }
    },
    {
      "cell_type": "markdown",
      "source": [
        "### Checking variable column count"
      ],
      "metadata": {
        "id": "vKBI1Zd7GzSe"
      }
    },
    {
      "cell_type": "code",
      "source": [
        "unique_counts = df['LeaveOrNot'].value_counts()\n",
        "print(unique_counts)"
      ],
      "metadata": {
        "colab": {
          "base_uri": "https://localhost:8080/"
        },
        "id": "wfipZBWy5nuy",
        "outputId": "42a02751-b519-4d03-ff67-eb2dd100ece1"
      },
      "execution_count": 991,
      "outputs": [
        {
          "output_type": "stream",
          "name": "stdout",
          "text": [
            "False    1676\n",
            "True     1088\n",
            "Name: LeaveOrNot, dtype: int64\n"
          ]
        }
      ]
    },
    {
      "cell_type": "code",
      "source": [
        "unique_counts = df['LeaveOrNot'].value_counts(normalize=True) #It will give in proportion form\n",
        "print(unique_counts)"
      ],
      "metadata": {
        "colab": {
          "base_uri": "https://localhost:8080/"
        },
        "id": "uehC8frk54_H",
        "outputId": "466a2e62-1d59-4bb9-b6c8-493336d687f5"
      },
      "execution_count": 992,
      "outputs": [
        {
          "output_type": "stream",
          "name": "stdout",
          "text": [
            "False    0.606368\n",
            "True     0.393632\n",
            "Name: LeaveOrNot, dtype: float64\n"
          ]
        }
      ]
    },
    {
      "cell_type": "markdown",
      "source": [
        "Since this shows class imbalance, we need to do oversampling, but since we should not do oversampling for testing data, we can do oversampling at the last"
      ],
      "metadata": {
        "id": "Hh6EXctoU2PC"
      }
    },
    {
      "cell_type": "code",
      "source": [
        "unique_counts = df['PaymentTier'].value_counts()\n",
        "print(unique_counts)"
      ],
      "metadata": {
        "colab": {
          "base_uri": "https://localhost:8080/"
        },
        "id": "D2PVyTrk6nqi",
        "outputId": "d56eb42b-a09e-454e-ee0f-739b10ca74ad"
      },
      "execution_count": 993,
      "outputs": [
        {
          "output_type": "stream",
          "name": "stdout",
          "text": [
            "3    1976\n",
            "2     570\n",
            "1     218\n",
            "Name: PaymentTier, dtype: int64\n"
          ]
        }
      ]
    },
    {
      "cell_type": "code",
      "source": [
        "unique_counts = df['ExperienceInCurrentDomain'].value_counts()\n",
        "print(unique_counts)"
      ],
      "metadata": {
        "colab": {
          "base_uri": "https://localhost:8080/"
        },
        "id": "-VYPaSln62Zv",
        "outputId": "c1422e02-806e-4992-a55e-52fea10aa244"
      },
      "execution_count": 994,
      "outputs": [
        {
          "output_type": "stream",
          "name": "stdout",
          "text": [
            "2    681\n",
            "5    470\n",
            "3    451\n",
            "1    433\n",
            "4    425\n",
            "0    287\n",
            "7      9\n",
            "6      8\n",
            "Name: ExperienceInCurrentDomain, dtype: int64\n"
          ]
        }
      ]
    },
    {
      "cell_type": "code",
      "source": [
        "unique_counts = df['JoiningYear'].value_counts()\n",
        "print(unique_counts)"
      ],
      "metadata": {
        "colab": {
          "base_uri": "https://localhost:8080/"
        },
        "id": "LeDyRQ7HH4JA",
        "outputId": "6a764cd8-2d08-4f41-d8d1-1944c02eec69"
      },
      "execution_count": 995,
      "outputs": [
        {
          "output_type": "stream",
          "name": "stdout",
          "text": [
            "2017    662\n",
            "2015    464\n",
            "2013    396\n",
            "2014    385\n",
            "2016    310\n",
            "2012    308\n",
            "2018    239\n",
            "Name: JoiningYear, dtype: int64\n"
          ]
        }
      ]
    },
    {
      "cell_type": "code",
      "source": [
        "unique_counts = df['Education'].value_counts()\n",
        "print(unique_counts)"
      ],
      "metadata": {
        "colab": {
          "base_uri": "https://localhost:8080/"
        },
        "id": "UpkWT73eKaL6",
        "outputId": "e8332376-ce6e-4b5e-994d-83e760ada389"
      },
      "execution_count": 996,
      "outputs": [
        {
          "output_type": "stream",
          "name": "stdout",
          "text": [
            "Bachelors    1971\n",
            "Masters       637\n",
            "PHD           156\n",
            "Name: Education, dtype: int64\n"
          ]
        }
      ]
    },
    {
      "cell_type": "code",
      "source": [
        "unique_counts = df['City'].value_counts()\n",
        "print(unique_counts)"
      ],
      "metadata": {
        "colab": {
          "base_uri": "https://localhost:8080/"
        },
        "id": "Ydh1hwkaKkOI",
        "outputId": "edcd6f80-e387-4cef-e614-9c9305c25ffd"
      },
      "execution_count": 997,
      "outputs": [
        {
          "output_type": "stream",
          "name": "stdout",
          "text": [
            "Bangalore    1171\n",
            "Pune          801\n",
            "New Delhi     792\n",
            "Name: City, dtype: int64\n"
          ]
        }
      ]
    },
    {
      "cell_type": "code",
      "source": [
        "unique_counts = df['EverBenched'].value_counts()\n",
        "print(unique_counts)"
      ],
      "metadata": {
        "colab": {
          "base_uri": "https://localhost:8080/"
        },
        "id": "2GqdCgQ6Kro6",
        "outputId": "18babcee-eaf4-47a2-f577-58291ea91799"
      },
      "execution_count": 998,
      "outputs": [
        {
          "output_type": "stream",
          "name": "stdout",
          "text": [
            "No     2403\n",
            "Yes     361\n",
            "Name: EverBenched, dtype: int64\n"
          ]
        }
      ]
    },
    {
      "cell_type": "code",
      "source": [
        "unique_counts = df['Gender'].value_counts()\n",
        "print(unique_counts)"
      ],
      "metadata": {
        "colab": {
          "base_uri": "https://localhost:8080/"
        },
        "id": "wApP71b-TSJj",
        "outputId": "9781570c-a358-4e0f-9a37-bfc4cd417eb7"
      },
      "execution_count": 999,
      "outputs": [
        {
          "output_type": "stream",
          "name": "stdout",
          "text": [
            "Male      1529\n",
            "Female    1235\n",
            "Name: Gender, dtype: int64\n"
          ]
        }
      ]
    },
    {
      "cell_type": "markdown",
      "source": [
        "### Converting JoiningYear column as 2018 - JoiningYear difference"
      ],
      "metadata": {
        "id": "sm4ue9qJINji"
      }
    },
    {
      "cell_type": "markdown",
      "source": [
        "Since we are hadling JoiningYear as the int column, not the datetime datatype -->> So handling as the year does not give any numerical meaning. That's why I created new column called Years Since Joining and there I calculate the difference between 2018 and the year they join - I use 2018, since they have the data until 2018."
      ],
      "metadata": {
        "id": "esKiV1PP_-82"
      }
    },
    {
      "cell_type": "code",
      "source": [
        "# Calculate the new column\n",
        "df['YearsSinceJoining'] = 2018 - df['JoiningYear'] # Since 2018 is the maximum among rows, I take the difference between 2018 and joining year\n",
        "df.head()"
      ],
      "metadata": {
        "colab": {
          "base_uri": "https://localhost:8080/",
          "height": 206
        },
        "id": "S0wveP-HIae4",
        "outputId": "a55bf9fe-ace1-4c32-9b15-5a7755ffcf4d"
      },
      "execution_count": 1000,
      "outputs": [
        {
          "output_type": "execute_result",
          "data": {
            "text/plain": [
              "   Education  JoiningYear       City  PaymentTier  Age  Gender EverBenched  \\\n",
              "0  Bachelors         2017  Bangalore            3   34    Male          No   \n",
              "1  Bachelors         2013       Pune            1   28  Female          No   \n",
              "2  Bachelors         2014  New Delhi            3   38  Female          No   \n",
              "3    Masters         2016  Bangalore            3   27    Male          No   \n",
              "4    Masters         2017       Pune            3   24    Male         Yes   \n",
              "\n",
              "   ExperienceInCurrentDomain  LeaveOrNot  YearsSinceJoining  \n",
              "0                          0       False                  1  \n",
              "1                          3        True                  5  \n",
              "2                          2       False                  4  \n",
              "3                          5        True                  2  \n",
              "4                          2        True                  1  "
            ],
            "text/html": [
              "\n",
              "  <div id=\"df-520c2a1b-e01c-4215-8d92-46868d585cdd\" class=\"colab-df-container\">\n",
              "    <div>\n",
              "<style scoped>\n",
              "    .dataframe tbody tr th:only-of-type {\n",
              "        vertical-align: middle;\n",
              "    }\n",
              "\n",
              "    .dataframe tbody tr th {\n",
              "        vertical-align: top;\n",
              "    }\n",
              "\n",
              "    .dataframe thead th {\n",
              "        text-align: right;\n",
              "    }\n",
              "</style>\n",
              "<table border=\"1\" class=\"dataframe\">\n",
              "  <thead>\n",
              "    <tr style=\"text-align: right;\">\n",
              "      <th></th>\n",
              "      <th>Education</th>\n",
              "      <th>JoiningYear</th>\n",
              "      <th>City</th>\n",
              "      <th>PaymentTier</th>\n",
              "      <th>Age</th>\n",
              "      <th>Gender</th>\n",
              "      <th>EverBenched</th>\n",
              "      <th>ExperienceInCurrentDomain</th>\n",
              "      <th>LeaveOrNot</th>\n",
              "      <th>YearsSinceJoining</th>\n",
              "    </tr>\n",
              "  </thead>\n",
              "  <tbody>\n",
              "    <tr>\n",
              "      <th>0</th>\n",
              "      <td>Bachelors</td>\n",
              "      <td>2017</td>\n",
              "      <td>Bangalore</td>\n",
              "      <td>3</td>\n",
              "      <td>34</td>\n",
              "      <td>Male</td>\n",
              "      <td>No</td>\n",
              "      <td>0</td>\n",
              "      <td>False</td>\n",
              "      <td>1</td>\n",
              "    </tr>\n",
              "    <tr>\n",
              "      <th>1</th>\n",
              "      <td>Bachelors</td>\n",
              "      <td>2013</td>\n",
              "      <td>Pune</td>\n",
              "      <td>1</td>\n",
              "      <td>28</td>\n",
              "      <td>Female</td>\n",
              "      <td>No</td>\n",
              "      <td>3</td>\n",
              "      <td>True</td>\n",
              "      <td>5</td>\n",
              "    </tr>\n",
              "    <tr>\n",
              "      <th>2</th>\n",
              "      <td>Bachelors</td>\n",
              "      <td>2014</td>\n",
              "      <td>New Delhi</td>\n",
              "      <td>3</td>\n",
              "      <td>38</td>\n",
              "      <td>Female</td>\n",
              "      <td>No</td>\n",
              "      <td>2</td>\n",
              "      <td>False</td>\n",
              "      <td>4</td>\n",
              "    </tr>\n",
              "    <tr>\n",
              "      <th>3</th>\n",
              "      <td>Masters</td>\n",
              "      <td>2016</td>\n",
              "      <td>Bangalore</td>\n",
              "      <td>3</td>\n",
              "      <td>27</td>\n",
              "      <td>Male</td>\n",
              "      <td>No</td>\n",
              "      <td>5</td>\n",
              "      <td>True</td>\n",
              "      <td>2</td>\n",
              "    </tr>\n",
              "    <tr>\n",
              "      <th>4</th>\n",
              "      <td>Masters</td>\n",
              "      <td>2017</td>\n",
              "      <td>Pune</td>\n",
              "      <td>3</td>\n",
              "      <td>24</td>\n",
              "      <td>Male</td>\n",
              "      <td>Yes</td>\n",
              "      <td>2</td>\n",
              "      <td>True</td>\n",
              "      <td>1</td>\n",
              "    </tr>\n",
              "  </tbody>\n",
              "</table>\n",
              "</div>\n",
              "    <div class=\"colab-df-buttons\">\n",
              "\n",
              "  <div class=\"colab-df-container\">\n",
              "    <button class=\"colab-df-convert\" onclick=\"convertToInteractive('df-520c2a1b-e01c-4215-8d92-46868d585cdd')\"\n",
              "            title=\"Convert this dataframe to an interactive table.\"\n",
              "            style=\"display:none;\">\n",
              "\n",
              "  <svg xmlns=\"http://www.w3.org/2000/svg\" height=\"24px\" viewBox=\"0 -960 960 960\">\n",
              "    <path d=\"M120-120v-720h720v720H120Zm60-500h600v-160H180v160Zm220 220h160v-160H400v160Zm0 220h160v-160H400v160ZM180-400h160v-160H180v160Zm440 0h160v-160H620v160ZM180-180h160v-160H180v160Zm440 0h160v-160H620v160Z\"/>\n",
              "  </svg>\n",
              "    </button>\n",
              "\n",
              "  <style>\n",
              "    .colab-df-container {\n",
              "      display:flex;\n",
              "      gap: 12px;\n",
              "    }\n",
              "\n",
              "    .colab-df-convert {\n",
              "      background-color: #E8F0FE;\n",
              "      border: none;\n",
              "      border-radius: 50%;\n",
              "      cursor: pointer;\n",
              "      display: none;\n",
              "      fill: #1967D2;\n",
              "      height: 32px;\n",
              "      padding: 0 0 0 0;\n",
              "      width: 32px;\n",
              "    }\n",
              "\n",
              "    .colab-df-convert:hover {\n",
              "      background-color: #E2EBFA;\n",
              "      box-shadow: 0px 1px 2px rgba(60, 64, 67, 0.3), 0px 1px 3px 1px rgba(60, 64, 67, 0.15);\n",
              "      fill: #174EA6;\n",
              "    }\n",
              "\n",
              "    .colab-df-buttons div {\n",
              "      margin-bottom: 4px;\n",
              "    }\n",
              "\n",
              "    [theme=dark] .colab-df-convert {\n",
              "      background-color: #3B4455;\n",
              "      fill: #D2E3FC;\n",
              "    }\n",
              "\n",
              "    [theme=dark] .colab-df-convert:hover {\n",
              "      background-color: #434B5C;\n",
              "      box-shadow: 0px 1px 3px 1px rgba(0, 0, 0, 0.15);\n",
              "      filter: drop-shadow(0px 1px 2px rgba(0, 0, 0, 0.3));\n",
              "      fill: #FFFFFF;\n",
              "    }\n",
              "  </style>\n",
              "\n",
              "    <script>\n",
              "      const buttonEl =\n",
              "        document.querySelector('#df-520c2a1b-e01c-4215-8d92-46868d585cdd button.colab-df-convert');\n",
              "      buttonEl.style.display =\n",
              "        google.colab.kernel.accessAllowed ? 'block' : 'none';\n",
              "\n",
              "      async function convertToInteractive(key) {\n",
              "        const element = document.querySelector('#df-520c2a1b-e01c-4215-8d92-46868d585cdd');\n",
              "        const dataTable =\n",
              "          await google.colab.kernel.invokeFunction('convertToInteractive',\n",
              "                                                    [key], {});\n",
              "        if (!dataTable) return;\n",
              "\n",
              "        const docLinkHtml = 'Like what you see? Visit the ' +\n",
              "          '<a target=\"_blank\" href=https://colab.research.google.com/notebooks/data_table.ipynb>data table notebook</a>'\n",
              "          + ' to learn more about interactive tables.';\n",
              "        element.innerHTML = '';\n",
              "        dataTable['output_type'] = 'display_data';\n",
              "        await google.colab.output.renderOutput(dataTable, element);\n",
              "        const docLink = document.createElement('div');\n",
              "        docLink.innerHTML = docLinkHtml;\n",
              "        element.appendChild(docLink);\n",
              "      }\n",
              "    </script>\n",
              "  </div>\n",
              "\n",
              "\n",
              "<div id=\"df-3a0c2624-64d4-4ae9-875d-6fc2bd0d08ad\">\n",
              "  <button class=\"colab-df-quickchart\" onclick=\"quickchart('df-3a0c2624-64d4-4ae9-875d-6fc2bd0d08ad')\"\n",
              "            title=\"Suggest charts.\"\n",
              "            style=\"display:none;\">\n",
              "\n",
              "<svg xmlns=\"http://www.w3.org/2000/svg\" height=\"24px\"viewBox=\"0 0 24 24\"\n",
              "     width=\"24px\">\n",
              "    <g>\n",
              "        <path d=\"M19 3H5c-1.1 0-2 .9-2 2v14c0 1.1.9 2 2 2h14c1.1 0 2-.9 2-2V5c0-1.1-.9-2-2-2zM9 17H7v-7h2v7zm4 0h-2V7h2v10zm4 0h-2v-4h2v4z\"/>\n",
              "    </g>\n",
              "</svg>\n",
              "  </button>\n",
              "\n",
              "<style>\n",
              "  .colab-df-quickchart {\n",
              "      --bg-color: #E8F0FE;\n",
              "      --fill-color: #1967D2;\n",
              "      --hover-bg-color: #E2EBFA;\n",
              "      --hover-fill-color: #174EA6;\n",
              "      --disabled-fill-color: #AAA;\n",
              "      --disabled-bg-color: #DDD;\n",
              "  }\n",
              "\n",
              "  [theme=dark] .colab-df-quickchart {\n",
              "      --bg-color: #3B4455;\n",
              "      --fill-color: #D2E3FC;\n",
              "      --hover-bg-color: #434B5C;\n",
              "      --hover-fill-color: #FFFFFF;\n",
              "      --disabled-bg-color: #3B4455;\n",
              "      --disabled-fill-color: #666;\n",
              "  }\n",
              "\n",
              "  .colab-df-quickchart {\n",
              "    background-color: var(--bg-color);\n",
              "    border: none;\n",
              "    border-radius: 50%;\n",
              "    cursor: pointer;\n",
              "    display: none;\n",
              "    fill: var(--fill-color);\n",
              "    height: 32px;\n",
              "    padding: 0;\n",
              "    width: 32px;\n",
              "  }\n",
              "\n",
              "  .colab-df-quickchart:hover {\n",
              "    background-color: var(--hover-bg-color);\n",
              "    box-shadow: 0 1px 2px rgba(60, 64, 67, 0.3), 0 1px 3px 1px rgba(60, 64, 67, 0.15);\n",
              "    fill: var(--button-hover-fill-color);\n",
              "  }\n",
              "\n",
              "  .colab-df-quickchart-complete:disabled,\n",
              "  .colab-df-quickchart-complete:disabled:hover {\n",
              "    background-color: var(--disabled-bg-color);\n",
              "    fill: var(--disabled-fill-color);\n",
              "    box-shadow: none;\n",
              "  }\n",
              "\n",
              "  .colab-df-spinner {\n",
              "    border: 2px solid var(--fill-color);\n",
              "    border-color: transparent;\n",
              "    border-bottom-color: var(--fill-color);\n",
              "    animation:\n",
              "      spin 1s steps(1) infinite;\n",
              "  }\n",
              "\n",
              "  @keyframes spin {\n",
              "    0% {\n",
              "      border-color: transparent;\n",
              "      border-bottom-color: var(--fill-color);\n",
              "      border-left-color: var(--fill-color);\n",
              "    }\n",
              "    20% {\n",
              "      border-color: transparent;\n",
              "      border-left-color: var(--fill-color);\n",
              "      border-top-color: var(--fill-color);\n",
              "    }\n",
              "    30% {\n",
              "      border-color: transparent;\n",
              "      border-left-color: var(--fill-color);\n",
              "      border-top-color: var(--fill-color);\n",
              "      border-right-color: var(--fill-color);\n",
              "    }\n",
              "    40% {\n",
              "      border-color: transparent;\n",
              "      border-right-color: var(--fill-color);\n",
              "      border-top-color: var(--fill-color);\n",
              "    }\n",
              "    60% {\n",
              "      border-color: transparent;\n",
              "      border-right-color: var(--fill-color);\n",
              "    }\n",
              "    80% {\n",
              "      border-color: transparent;\n",
              "      border-right-color: var(--fill-color);\n",
              "      border-bottom-color: var(--fill-color);\n",
              "    }\n",
              "    90% {\n",
              "      border-color: transparent;\n",
              "      border-bottom-color: var(--fill-color);\n",
              "    }\n",
              "  }\n",
              "</style>\n",
              "\n",
              "  <script>\n",
              "    async function quickchart(key) {\n",
              "      const quickchartButtonEl =\n",
              "        document.querySelector('#' + key + ' button');\n",
              "      quickchartButtonEl.disabled = true;  // To prevent multiple clicks.\n",
              "      quickchartButtonEl.classList.add('colab-df-spinner');\n",
              "      try {\n",
              "        const charts = await google.colab.kernel.invokeFunction(\n",
              "            'suggestCharts', [key], {});\n",
              "      } catch (error) {\n",
              "        console.error('Error during call to suggestCharts:', error);\n",
              "      }\n",
              "      quickchartButtonEl.classList.remove('colab-df-spinner');\n",
              "      quickchartButtonEl.classList.add('colab-df-quickchart-complete');\n",
              "    }\n",
              "    (() => {\n",
              "      let quickchartButtonEl =\n",
              "        document.querySelector('#df-3a0c2624-64d4-4ae9-875d-6fc2bd0d08ad button');\n",
              "      quickchartButtonEl.style.display =\n",
              "        google.colab.kernel.accessAllowed ? 'block' : 'none';\n",
              "    })();\n",
              "  </script>\n",
              "</div>\n",
              "    </div>\n",
              "  </div>\n"
            ]
          },
          "metadata": {},
          "execution_count": 1000
        }
      ]
    },
    {
      "cell_type": "code",
      "source": [
        "# Drop the 'JoiningYear' column\n",
        "df.drop(columns=['JoiningYear'], inplace=True)"
      ],
      "metadata": {
        "id": "Gp3a6GBdJMsB"
      },
      "execution_count": 1001,
      "outputs": []
    },
    {
      "cell_type": "code",
      "source": [
        "df.describe()"
      ],
      "metadata": {
        "colab": {
          "base_uri": "https://localhost:8080/",
          "height": 300
        },
        "id": "HLNDOhs51Rue",
        "outputId": "80b024bf-acb5-4aca-b5e8-d14c341bee77"
      },
      "execution_count": 1002,
      "outputs": [
        {
          "output_type": "execute_result",
          "data": {
            "text/plain": [
              "       PaymentTier          Age  ExperienceInCurrentDomain  YearsSinceJoining\n",
              "count  2764.000000  2764.000000                2764.000000        2764.000000\n",
              "mean      2.636035    30.952967                   2.644356           2.909551\n",
              "std       0.624001     5.108872                   1.610610           1.885943\n",
              "min       1.000000    22.000000                   0.000000           0.000000\n",
              "25%       2.000000    27.000000                   1.000000           1.000000\n",
              "50%       3.000000    30.000000                   2.000000           3.000000\n",
              "75%       3.000000    35.000000                   4.000000           5.000000\n",
              "max       3.000000    41.000000                   7.000000           6.000000"
            ],
            "text/html": [
              "\n",
              "  <div id=\"df-cb99d554-8904-4a18-832e-bd6da8a55cd1\" class=\"colab-df-container\">\n",
              "    <div>\n",
              "<style scoped>\n",
              "    .dataframe tbody tr th:only-of-type {\n",
              "        vertical-align: middle;\n",
              "    }\n",
              "\n",
              "    .dataframe tbody tr th {\n",
              "        vertical-align: top;\n",
              "    }\n",
              "\n",
              "    .dataframe thead th {\n",
              "        text-align: right;\n",
              "    }\n",
              "</style>\n",
              "<table border=\"1\" class=\"dataframe\">\n",
              "  <thead>\n",
              "    <tr style=\"text-align: right;\">\n",
              "      <th></th>\n",
              "      <th>PaymentTier</th>\n",
              "      <th>Age</th>\n",
              "      <th>ExperienceInCurrentDomain</th>\n",
              "      <th>YearsSinceJoining</th>\n",
              "    </tr>\n",
              "  </thead>\n",
              "  <tbody>\n",
              "    <tr>\n",
              "      <th>count</th>\n",
              "      <td>2764.000000</td>\n",
              "      <td>2764.000000</td>\n",
              "      <td>2764.000000</td>\n",
              "      <td>2764.000000</td>\n",
              "    </tr>\n",
              "    <tr>\n",
              "      <th>mean</th>\n",
              "      <td>2.636035</td>\n",
              "      <td>30.952967</td>\n",
              "      <td>2.644356</td>\n",
              "      <td>2.909551</td>\n",
              "    </tr>\n",
              "    <tr>\n",
              "      <th>std</th>\n",
              "      <td>0.624001</td>\n",
              "      <td>5.108872</td>\n",
              "      <td>1.610610</td>\n",
              "      <td>1.885943</td>\n",
              "    </tr>\n",
              "    <tr>\n",
              "      <th>min</th>\n",
              "      <td>1.000000</td>\n",
              "      <td>22.000000</td>\n",
              "      <td>0.000000</td>\n",
              "      <td>0.000000</td>\n",
              "    </tr>\n",
              "    <tr>\n",
              "      <th>25%</th>\n",
              "      <td>2.000000</td>\n",
              "      <td>27.000000</td>\n",
              "      <td>1.000000</td>\n",
              "      <td>1.000000</td>\n",
              "    </tr>\n",
              "    <tr>\n",
              "      <th>50%</th>\n",
              "      <td>3.000000</td>\n",
              "      <td>30.000000</td>\n",
              "      <td>2.000000</td>\n",
              "      <td>3.000000</td>\n",
              "    </tr>\n",
              "    <tr>\n",
              "      <th>75%</th>\n",
              "      <td>3.000000</td>\n",
              "      <td>35.000000</td>\n",
              "      <td>4.000000</td>\n",
              "      <td>5.000000</td>\n",
              "    </tr>\n",
              "    <tr>\n",
              "      <th>max</th>\n",
              "      <td>3.000000</td>\n",
              "      <td>41.000000</td>\n",
              "      <td>7.000000</td>\n",
              "      <td>6.000000</td>\n",
              "    </tr>\n",
              "  </tbody>\n",
              "</table>\n",
              "</div>\n",
              "    <div class=\"colab-df-buttons\">\n",
              "\n",
              "  <div class=\"colab-df-container\">\n",
              "    <button class=\"colab-df-convert\" onclick=\"convertToInteractive('df-cb99d554-8904-4a18-832e-bd6da8a55cd1')\"\n",
              "            title=\"Convert this dataframe to an interactive table.\"\n",
              "            style=\"display:none;\">\n",
              "\n",
              "  <svg xmlns=\"http://www.w3.org/2000/svg\" height=\"24px\" viewBox=\"0 -960 960 960\">\n",
              "    <path d=\"M120-120v-720h720v720H120Zm60-500h600v-160H180v160Zm220 220h160v-160H400v160Zm0 220h160v-160H400v160ZM180-400h160v-160H180v160Zm440 0h160v-160H620v160ZM180-180h160v-160H180v160Zm440 0h160v-160H620v160Z\"/>\n",
              "  </svg>\n",
              "    </button>\n",
              "\n",
              "  <style>\n",
              "    .colab-df-container {\n",
              "      display:flex;\n",
              "      gap: 12px;\n",
              "    }\n",
              "\n",
              "    .colab-df-convert {\n",
              "      background-color: #E8F0FE;\n",
              "      border: none;\n",
              "      border-radius: 50%;\n",
              "      cursor: pointer;\n",
              "      display: none;\n",
              "      fill: #1967D2;\n",
              "      height: 32px;\n",
              "      padding: 0 0 0 0;\n",
              "      width: 32px;\n",
              "    }\n",
              "\n",
              "    .colab-df-convert:hover {\n",
              "      background-color: #E2EBFA;\n",
              "      box-shadow: 0px 1px 2px rgba(60, 64, 67, 0.3), 0px 1px 3px 1px rgba(60, 64, 67, 0.15);\n",
              "      fill: #174EA6;\n",
              "    }\n",
              "\n",
              "    .colab-df-buttons div {\n",
              "      margin-bottom: 4px;\n",
              "    }\n",
              "\n",
              "    [theme=dark] .colab-df-convert {\n",
              "      background-color: #3B4455;\n",
              "      fill: #D2E3FC;\n",
              "    }\n",
              "\n",
              "    [theme=dark] .colab-df-convert:hover {\n",
              "      background-color: #434B5C;\n",
              "      box-shadow: 0px 1px 3px 1px rgba(0, 0, 0, 0.15);\n",
              "      filter: drop-shadow(0px 1px 2px rgba(0, 0, 0, 0.3));\n",
              "      fill: #FFFFFF;\n",
              "    }\n",
              "  </style>\n",
              "\n",
              "    <script>\n",
              "      const buttonEl =\n",
              "        document.querySelector('#df-cb99d554-8904-4a18-832e-bd6da8a55cd1 button.colab-df-convert');\n",
              "      buttonEl.style.display =\n",
              "        google.colab.kernel.accessAllowed ? 'block' : 'none';\n",
              "\n",
              "      async function convertToInteractive(key) {\n",
              "        const element = document.querySelector('#df-cb99d554-8904-4a18-832e-bd6da8a55cd1');\n",
              "        const dataTable =\n",
              "          await google.colab.kernel.invokeFunction('convertToInteractive',\n",
              "                                                    [key], {});\n",
              "        if (!dataTable) return;\n",
              "\n",
              "        const docLinkHtml = 'Like what you see? Visit the ' +\n",
              "          '<a target=\"_blank\" href=https://colab.research.google.com/notebooks/data_table.ipynb>data table notebook</a>'\n",
              "          + ' to learn more about interactive tables.';\n",
              "        element.innerHTML = '';\n",
              "        dataTable['output_type'] = 'display_data';\n",
              "        await google.colab.output.renderOutput(dataTable, element);\n",
              "        const docLink = document.createElement('div');\n",
              "        docLink.innerHTML = docLinkHtml;\n",
              "        element.appendChild(docLink);\n",
              "      }\n",
              "    </script>\n",
              "  </div>\n",
              "\n",
              "\n",
              "<div id=\"df-703af2b4-5373-4369-825b-3f61e5e1758a\">\n",
              "  <button class=\"colab-df-quickchart\" onclick=\"quickchart('df-703af2b4-5373-4369-825b-3f61e5e1758a')\"\n",
              "            title=\"Suggest charts.\"\n",
              "            style=\"display:none;\">\n",
              "\n",
              "<svg xmlns=\"http://www.w3.org/2000/svg\" height=\"24px\"viewBox=\"0 0 24 24\"\n",
              "     width=\"24px\">\n",
              "    <g>\n",
              "        <path d=\"M19 3H5c-1.1 0-2 .9-2 2v14c0 1.1.9 2 2 2h14c1.1 0 2-.9 2-2V5c0-1.1-.9-2-2-2zM9 17H7v-7h2v7zm4 0h-2V7h2v10zm4 0h-2v-4h2v4z\"/>\n",
              "    </g>\n",
              "</svg>\n",
              "  </button>\n",
              "\n",
              "<style>\n",
              "  .colab-df-quickchart {\n",
              "      --bg-color: #E8F0FE;\n",
              "      --fill-color: #1967D2;\n",
              "      --hover-bg-color: #E2EBFA;\n",
              "      --hover-fill-color: #174EA6;\n",
              "      --disabled-fill-color: #AAA;\n",
              "      --disabled-bg-color: #DDD;\n",
              "  }\n",
              "\n",
              "  [theme=dark] .colab-df-quickchart {\n",
              "      --bg-color: #3B4455;\n",
              "      --fill-color: #D2E3FC;\n",
              "      --hover-bg-color: #434B5C;\n",
              "      --hover-fill-color: #FFFFFF;\n",
              "      --disabled-bg-color: #3B4455;\n",
              "      --disabled-fill-color: #666;\n",
              "  }\n",
              "\n",
              "  .colab-df-quickchart {\n",
              "    background-color: var(--bg-color);\n",
              "    border: none;\n",
              "    border-radius: 50%;\n",
              "    cursor: pointer;\n",
              "    display: none;\n",
              "    fill: var(--fill-color);\n",
              "    height: 32px;\n",
              "    padding: 0;\n",
              "    width: 32px;\n",
              "  }\n",
              "\n",
              "  .colab-df-quickchart:hover {\n",
              "    background-color: var(--hover-bg-color);\n",
              "    box-shadow: 0 1px 2px rgba(60, 64, 67, 0.3), 0 1px 3px 1px rgba(60, 64, 67, 0.15);\n",
              "    fill: var(--button-hover-fill-color);\n",
              "  }\n",
              "\n",
              "  .colab-df-quickchart-complete:disabled,\n",
              "  .colab-df-quickchart-complete:disabled:hover {\n",
              "    background-color: var(--disabled-bg-color);\n",
              "    fill: var(--disabled-fill-color);\n",
              "    box-shadow: none;\n",
              "  }\n",
              "\n",
              "  .colab-df-spinner {\n",
              "    border: 2px solid var(--fill-color);\n",
              "    border-color: transparent;\n",
              "    border-bottom-color: var(--fill-color);\n",
              "    animation:\n",
              "      spin 1s steps(1) infinite;\n",
              "  }\n",
              "\n",
              "  @keyframes spin {\n",
              "    0% {\n",
              "      border-color: transparent;\n",
              "      border-bottom-color: var(--fill-color);\n",
              "      border-left-color: var(--fill-color);\n",
              "    }\n",
              "    20% {\n",
              "      border-color: transparent;\n",
              "      border-left-color: var(--fill-color);\n",
              "      border-top-color: var(--fill-color);\n",
              "    }\n",
              "    30% {\n",
              "      border-color: transparent;\n",
              "      border-left-color: var(--fill-color);\n",
              "      border-top-color: var(--fill-color);\n",
              "      border-right-color: var(--fill-color);\n",
              "    }\n",
              "    40% {\n",
              "      border-color: transparent;\n",
              "      border-right-color: var(--fill-color);\n",
              "      border-top-color: var(--fill-color);\n",
              "    }\n",
              "    60% {\n",
              "      border-color: transparent;\n",
              "      border-right-color: var(--fill-color);\n",
              "    }\n",
              "    80% {\n",
              "      border-color: transparent;\n",
              "      border-right-color: var(--fill-color);\n",
              "      border-bottom-color: var(--fill-color);\n",
              "    }\n",
              "    90% {\n",
              "      border-color: transparent;\n",
              "      border-bottom-color: var(--fill-color);\n",
              "    }\n",
              "  }\n",
              "</style>\n",
              "\n",
              "  <script>\n",
              "    async function quickchart(key) {\n",
              "      const quickchartButtonEl =\n",
              "        document.querySelector('#' + key + ' button');\n",
              "      quickchartButtonEl.disabled = true;  // To prevent multiple clicks.\n",
              "      quickchartButtonEl.classList.add('colab-df-spinner');\n",
              "      try {\n",
              "        const charts = await google.colab.kernel.invokeFunction(\n",
              "            'suggestCharts', [key], {});\n",
              "      } catch (error) {\n",
              "        console.error('Error during call to suggestCharts:', error);\n",
              "      }\n",
              "      quickchartButtonEl.classList.remove('colab-df-spinner');\n",
              "      quickchartButtonEl.classList.add('colab-df-quickchart-complete');\n",
              "    }\n",
              "    (() => {\n",
              "      let quickchartButtonEl =\n",
              "        document.querySelector('#df-703af2b4-5373-4369-825b-3f61e5e1758a button');\n",
              "      quickchartButtonEl.style.display =\n",
              "        google.colab.kernel.accessAllowed ? 'block' : 'none';\n",
              "    })();\n",
              "  </script>\n",
              "</div>\n",
              "    </div>\n",
              "  </div>\n"
            ]
          },
          "metadata": {},
          "execution_count": 1002
        }
      ]
    },
    {
      "cell_type": "markdown",
      "source": [
        "Payment Tier: Categorization of employees into different salary tiers.\n",
        "\n",
        "So it's a categorized value, like Integer encoding - No numerical meaning. So we don't need to include that when drawing Q-Q plot"
      ],
      "metadata": {
        "id": "39XlGxHiNjih"
      }
    },
    {
      "cell_type": "markdown",
      "source": [
        "# Question a"
      ],
      "metadata": {
        "id": "SI5amFDDy_VZ"
      }
    },
    {
      "cell_type": "markdown",
      "source": [
        "## Question a - 1"
      ],
      "metadata": {
        "id": "C3-DEePW0C5D"
      }
    },
    {
      "cell_type": "markdown",
      "source": [
        "### Produce Q-Q plots"
      ],
      "metadata": {
        "id": "ur3DBo_G09Un"
      }
    },
    {
      "cell_type": "code",
      "source": [
        "data = df['Age']\n",
        "\n",
        "# Generate a Q-Q plot\n",
        "fig, ax = plt.subplots(figsize=(6, 4))\n",
        "stats.probplot(data, dist='norm', plot=ax)\n",
        "ax.set_title('Q-Q Plot for Age')\n",
        "plt.show()\n"
      ],
      "metadata": {
        "colab": {
          "base_uri": "https://localhost:8080/",
          "height": 410
        },
        "id": "2d_HLhA22WP6",
        "outputId": "45f18da2-cd71-41b7-e512-86dadbb3b60d"
      },
      "execution_count": 1003,
      "outputs": [
        {
          "output_type": "display_data",
          "data": {
            "text/plain": [
              "<Figure size 600x400 with 1 Axes>"
            ],
            "image/png": "[encoded data removed]"
          },
          "metadata": {}
        }
      ]
    },
    {
      "cell_type": "code",
      "source": [
        "data = df['ExperienceInCurrentDomain']\n",
        "\n",
        "# Generate a Q-Q plot\n",
        "fig, ax = plt.subplots(figsize=(6, 4))\n",
        "stats.probplot(data, dist='norm', plot=ax)\n",
        "ax.set_title('Q-Q Plot for Experience In Current Domain')\n",
        "plt.show()"
      ],
      "metadata": {
        "colab": {
          "base_uri": "https://localhost:8080/",
          "height": 410
        },
        "id": "IaViSNcqdsY7",
        "outputId": "e95ffef3-2ab3-468c-d2ee-6e287ac728eb"
      },
      "execution_count": 1004,
      "outputs": [
        {
          "output_type": "display_data",
          "data": {
            "text/plain": [
              "<Figure size 600x400 with 1 Axes>"
            ],
            "image/png": "[encoded data removed]"
          },
          "metadata": {}
        }
      ]
    },
    {
      "cell_type": "code",
      "source": [
        "data = df['YearsSinceJoining']\n",
        "\n",
        "# Generate a Q-Q plot\n",
        "fig, ax = plt.subplots(figsize=(6, 4))\n",
        "stats.probplot(data, dist='norm', plot=ax)\n",
        "ax.set_title('Q-Q Plot for Years Since Joining')\n",
        "plt.show()"
      ],
      "metadata": {
        "colab": {
          "base_uri": "https://localhost:8080/",
          "height": 410
        },
        "id": "8dqW0lnqJqE4",
        "outputId": "a4b294d7-3017-4bea-dafe-8dc9986890de"
      },
      "execution_count": 1005,
      "outputs": [
        {
          "output_type": "display_data",
          "data": {
            "text/plain": [
              "<Figure size 600x400 with 1 Axes>"
            ],
            "image/png": "[encoded data removed]"
          },
          "metadata": {}
        }
      ]
    },
    {
      "cell_type": "code",
      "source": [
        "correlation = df['YearsSinceJoining'].corr(df['ExperienceInCurrentDomain']) # Just to check is there any linear relationship between two columns\n",
        "print(\"Correlation:\", correlation)"
      ],
      "metadata": {
        "colab": {
          "base_uri": "https://localhost:8080/"
        },
        "id": "kcYcNkZYKbjI",
        "outputId": "44d34462-202e-4fb4-f6bb-5942a5989540"
      },
      "execution_count": 1006,
      "outputs": [
        {
          "output_type": "stream",
          "name": "stdout",
          "text": [
            "Correlation: 0.031228337745925226\n"
          ]
        }
      ]
    },
    {
      "cell_type": "markdown",
      "source": [
        "### Produce Histogram"
      ],
      "metadata": {
        "id": "ChDaMi6n_ZAi"
      }
    },
    {
      "cell_type": "code",
      "source": [
        "age = df['Age']\n",
        "\n",
        "# Count the frequency of each unique value\n",
        "value_counts = age.value_counts()\n",
        "\n",
        "# Sort the values by their index (Experience values)\n",
        "sorted_counts = value_counts.sort_index()\n",
        "\n",
        "# Create a bar plot to show the distribution of unique values\n",
        "plt.figure(figsize=(5, 3))\n",
        "plt.bar(sorted_counts.index, sorted_counts.values, color='skyblue', edgecolor='black')\n",
        "plt.title('Age Distribution')\n",
        "plt.xlabel('Age')\n",
        "plt.ylabel('Frequency')\n",
        "plt.xticks(rotation=45)  # Rotate x-axis labels for readability\n",
        "plt.grid(axis='y', linestyle='--', alpha=0.7)\n",
        "plt.show()"
      ],
      "metadata": {
        "colab": {
          "base_uri": "https://localhost:8080/",
          "height": 351
        },
        "id": "ctgwqBKyKopJ",
        "outputId": "c37d10e1-c507-4ecf-bb3e-329d66b325b6"
      },
      "execution_count": 1007,
      "outputs": [
        {
          "output_type": "display_data",
          "data": {
            "text/plain": [
              "<Figure size 500x300 with 1 Axes>"
            ],
            "image/png": "[encoded data removed]"
          },
          "metadata": {}
        }
      ]
    },
    {
      "cell_type": "code",
      "source": [
        "experience_data = df['ExperienceInCurrentDomain']\n",
        "\n",
        "# Count the frequency of each unique value\n",
        "value_counts = experience_data.value_counts()\n",
        "\n",
        "# Sort the values by their index (Experience values)\n",
        "sorted_counts = value_counts.sort_index()\n",
        "\n",
        "# Create a bar plot to show the distribution of unique values\n",
        "plt.figure(figsize=(5,3))\n",
        "plt.bar(sorted_counts.index, sorted_counts.values, color='skyblue', edgecolor='black')\n",
        "plt.title('Experience In Current Domain Distribution')\n",
        "plt.xlabel('Experience In Current Domain')\n",
        "plt.ylabel('Frequency')\n",
        "plt.xticks(rotation=45)  # Rotate x-axis labels for readability\n",
        "plt.grid(axis='y', linestyle='--', alpha=0.7)\n",
        "plt.show()\n"
      ],
      "metadata": {
        "colab": {
          "base_uri": "https://localhost:8080/",
          "height": 335
        },
        "id": "8oMe0fjTd2SX",
        "outputId": "40c52ba2-3225-425b-e0f0-2ddfdb58df63"
      },
      "execution_count": 1008,
      "outputs": [
        {
          "output_type": "display_data",
          "data": {
            "text/plain": [
              "<Figure size 500x300 with 1 Axes>"
            ],
            "image/png": "[encoded data removed]"
          },
          "metadata": {}
        }
      ]
    },
    {
      "cell_type": "code",
      "source": [
        "years_since_joining = df['YearsSinceJoining']\n",
        "\n",
        "# Count the frequency of each unique value\n",
        "value_counts = years_since_joining.value_counts()\n",
        "\n",
        "# Sort the values by their index (Experience values)\n",
        "sorted_counts = value_counts.sort_index()\n",
        "\n",
        "# Create a bar plot to show the distribution of unique values\n",
        "plt.figure(figsize=(5,3))\n",
        "plt.bar(sorted_counts.index, sorted_counts.values, color='skyblue', edgecolor='black')\n",
        "plt.title('Years Since Joining Distribution')\n",
        "plt.xlabel('Years Since Joining')\n",
        "plt.ylabel('Frequency')\n",
        "plt.xticks(rotation=45)  # Rotate x-axis labels for readability\n",
        "plt.grid(axis='y', linestyle='--', alpha=0.7)\n",
        "plt.show()"
      ],
      "metadata": {
        "colab": {
          "base_uri": "https://localhost:8080/",
          "height": 335
        },
        "id": "46EQNmyHLWHe",
        "outputId": "fbdc4a42-d375-442b-cdf8-465c87f804e3"
      },
      "execution_count": 1009,
      "outputs": [
        {
          "output_type": "display_data",
          "data": {
            "text/plain": [
              "<Figure size 500x300 with 1 Axes>"
            ],
            "image/png": "[encoded data removed]"
          },
          "metadata": {}
        }
      ]
    },
    {
      "cell_type": "markdown",
      "source": [
        "### Finding exact skewed values"
      ],
      "metadata": {
        "id": "LxE0NrCvMFrN"
      }
    },
    {
      "cell_type": "code",
      "source": [
        "age_data = df['Age']\n",
        "\n",
        "# Calculate the skewness of the 'Age' column\n",
        "skewness = skew(age_data)\n",
        "\n",
        "print(\"Skewness:\", skewness)"
      ],
      "metadata": {
        "colab": {
          "base_uri": "https://localhost:8080/"
        },
        "id": "j6Kz0fPVZcAT",
        "outputId": "3b422091-47a6-4313-b132-336cdebb7cd1"
      },
      "execution_count": 1010,
      "outputs": [
        {
          "output_type": "stream",
          "name": "stdout",
          "text": [
            "Skewness: 0.3809377677292347\n"
          ]
        }
      ]
    },
    {
      "cell_type": "code",
      "source": [
        "experience_data = df['ExperienceInCurrentDomain']\n",
        "\n",
        "# Calculate the skewness of the 'ExperienceInCurrentDomain' column\n",
        "skewness = skew(experience_data)\n",
        "\n",
        "print(\"Skewness:\", skewness)"
      ],
      "metadata": {
        "colab": {
          "base_uri": "https://localhost:8080/"
        },
        "id": "ZAVcZ35sMfNu",
        "outputId": "b959f377-47de-407e-dc08-cb1f46b77f72"
      },
      "execution_count": 1011,
      "outputs": [
        {
          "output_type": "stream",
          "name": "stdout",
          "text": [
            "Skewness: 0.07403201149167056\n"
          ]
        }
      ]
    },
    {
      "cell_type": "code",
      "source": [
        "years_joining_data = df['YearsSinceJoining']\n",
        "\n",
        "# Calculate the skewness of the 'YearsSinceJoining' column\n",
        "skewness = skew(years_joining_data)\n",
        "\n",
        "print(\"Skewness:\", skewness)"
      ],
      "metadata": {
        "colab": {
          "base_uri": "https://localhost:8080/"
        },
        "id": "agQxPEmSNEMM",
        "outputId": "4b1af7da-7fa2-4d89-eea4-a48aff8bde46"
      },
      "execution_count": 1012,
      "outputs": [
        {
          "output_type": "stream",
          "name": "stdout",
          "text": [
            "Skewness: 0.13376113782670973\n"
          ]
        }
      ]
    },
    {
      "cell_type": "markdown",
      "source": [
        "In the above integer columns all 3 are positively skewed: Age, ExperienceInCurrentDomain, and YearsSinceJoining. But we need to decide whether we need transformation or not based on the accuracy level, because we can't guarantee that transformation definitely increase accuracy level"
      ],
      "metadata": {
        "id": "MMe5o7bSONn6"
      }
    },
    {
      "cell_type": "markdown",
      "source": [
        "### Making transformation and checking whether accuracy is increasing"
      ],
      "metadata": {
        "id": "k-2q04hXSR1-"
      }
    },
    {
      "cell_type": "markdown",
      "source": [
        "- log transformation (since all are positively skewed) - But it decreases the accuracy, so I commented them"
      ],
      "metadata": {
        "id": "gUKN57ohS5PL"
      }
    },
    {
      "cell_type": "code",
      "source": [
        "#df['YearsSinceJoining'] = np.log(df['YearsSinceJoining'])"
      ],
      "metadata": {
        "id": "yXKO90xXPUGY"
      },
      "execution_count": 1013,
      "outputs": []
    },
    {
      "cell_type": "code",
      "source": [
        "#df['ExperienceInCurrentDomain'] = np.log(df['ExperienceInCurrentDomain'])"
      ],
      "metadata": {
        "id": "uUFR6KUDSai1"
      },
      "execution_count": 1014,
      "outputs": []
    },
    {
      "cell_type": "code",
      "source": [
        "#df['Age'] = np.log(df['Age'])"
      ],
      "metadata": {
        "id": "9_X6KnO8Sh37"
      },
      "execution_count": 1015,
      "outputs": []
    },
    {
      "cell_type": "markdown",
      "source": [
        "## Question a - 2 => One hot encoding"
      ],
      "metadata": {
        "id": "4BbkHT629BF7"
      }
    },
    {
      "cell_type": "code",
      "source": [
        "df.shape"
      ],
      "metadata": {
        "colab": {
          "base_uri": "https://localhost:8080/"
        },
        "id": "6XB4Qp9BC98v",
        "outputId": "ca16ba78-c475-4b8f-9eae-fbf9b09684dd"
      },
      "execution_count": 1016,
      "outputs": [
        {
          "output_type": "execute_result",
          "data": {
            "text/plain": [
              "(2764, 9)"
            ]
          },
          "metadata": {},
          "execution_count": 1016
        }
      ]
    },
    {
      "cell_type": "code",
      "source": [
        "df = pd.get_dummies(df)\n",
        "df.head()"
      ],
      "metadata": {
        "colab": {
          "base_uri": "https://localhost:8080/",
          "height": 243
        },
        "id": "2qTXQCGmM4HX",
        "outputId": "93f6531c-88e4-4f09-8c56-51ca1eff71d7"
      },
      "execution_count": 1017,
      "outputs": [
        {
          "output_type": "execute_result",
          "data": {
            "text/plain": [
              "   PaymentTier  Age  ExperienceInCurrentDomain  LeaveOrNot  YearsSinceJoining  \\\n",
              "0            3   34                          0       False                  1   \n",
              "1            1   28                          3        True                  5   \n",
              "2            3   38                          2       False                  4   \n",
              "3            3   27                          5        True                  2   \n",
              "4            3   24                          2        True                  1   \n",
              "\n",
              "   Education_Bachelors  Education_Masters  Education_PHD  City_Bangalore  \\\n",
              "0                    1                  0              0               1   \n",
              "1                    1                  0              0               0   \n",
              "2                    1                  0              0               0   \n",
              "3                    0                  1              0               1   \n",
              "4                    0                  1              0               0   \n",
              "\n",
              "   City_New Delhi  City_Pune  Gender_Female  Gender_Male  EverBenched_No  \\\n",
              "0               0          0              0            1               1   \n",
              "1               0          1              1            0               1   \n",
              "2               1          0              1            0               1   \n",
              "3               0          0              0            1               1   \n",
              "4               0          1              0            1               0   \n",
              "\n",
              "   EverBenched_Yes  \n",
              "0                0  \n",
              "1                0  \n",
              "2                0  \n",
              "3                0  \n",
              "4                1  "
            ],
            "text/html": [
              "\n",
              "  <div id=\"df-41089f2b-417e-4089-bd9a-f4784c352d8e\" class=\"colab-df-container\">\n",
              "    <div>\n",
              "<style scoped>\n",
              "    .dataframe tbody tr th:only-of-type {\n",
              "        vertical-align: middle;\n",
              "    }\n",
              "\n",
              "    .dataframe tbody tr th {\n",
              "        vertical-align: top;\n",
              "    }\n",
              "\n",
              "    .dataframe thead th {\n",
              "        text-align: right;\n",
              "    }\n",
              "</style>\n",
              "<table border=\"1\" class=\"dataframe\">\n",
              "  <thead>\n",
              "    <tr style=\"text-align: right;\">\n",
              "      <th></th>\n",
              "      <th>PaymentTier</th>\n",
              "      <th>Age</th>\n",
              "      <th>ExperienceInCurrentDomain</th>\n",
              "      <th>LeaveOrNot</th>\n",
              "      <th>YearsSinceJoining</th>\n",
              "      <th>Education_Bachelors</th>\n",
              "      <th>Education_Masters</th>\n",
              "      <th>Education_PHD</th>\n",
              "      <th>City_Bangalore</th>\n",
              "      <th>City_New Delhi</th>\n",
              "      <th>City_Pune</th>\n",
              "      <th>Gender_Female</th>\n",
              "      <th>Gender_Male</th>\n",
              "      <th>EverBenched_No</th>\n",
              "      <th>EverBenched_Yes</th>\n",
              "    </tr>\n",
              "  </thead>\n",
              "  <tbody>\n",
              "    <tr>\n",
              "      <th>0</th>\n",
              "      <td>3</td>\n",
              "      <td>34</td>\n",
              "      <td>0</td>\n",
              "      <td>False</td>\n",
              "      <td>1</td>\n",
              "      <td>1</td>\n",
              "      <td>0</td>\n",
              "      <td>0</td>\n",
              "      <td>1</td>\n",
              "      <td>0</td>\n",
              "      <td>0</td>\n",
              "      <td>0</td>\n",
              "      <td>1</td>\n",
              "      <td>1</td>\n",
              "      <td>0</td>\n",
              "    </tr>\n",
              "    <tr>\n",
              "      <th>1</th>\n",
              "      <td>1</td>\n",
              "      <td>28</td>\n",
              "      <td>3</td>\n",
              "      <td>True</td>\n",
              "      <td>5</td>\n",
              "      <td>1</td>\n",
              "      <td>0</td>\n",
              "      <td>0</td>\n",
              "      <td>0</td>\n",
              "      <td>0</td>\n",
              "      <td>1</td>\n",
              "      <td>1</td>\n",
              "      <td>0</td>\n",
              "      <td>1</td>\n",
              "      <td>0</td>\n",
              "    </tr>\n",
              "    <tr>\n",
              "      <th>2</th>\n",
              "      <td>3</td>\n",
              "      <td>38</td>\n",
              "      <td>2</td>\n",
              "      <td>False</td>\n",
              "      <td>4</td>\n",
              "      <td>1</td>\n",
              "      <td>0</td>\n",
              "      <td>0</td>\n",
              "      <td>0</td>\n",
              "      <td>1</td>\n",
              "      <td>0</td>\n",
              "      <td>1</td>\n",
              "      <td>0</td>\n",
              "      <td>1</td>\n",
              "      <td>0</td>\n",
              "    </tr>\n",
              "    <tr>\n",
              "      <th>3</th>\n",
              "      <td>3</td>\n",
              "      <td>27</td>\n",
              "      <td>5</td>\n",
              "      <td>True</td>\n",
              "      <td>2</td>\n",
              "      <td>0</td>\n",
              "      <td>1</td>\n",
              "      <td>0</td>\n",
              "      <td>1</td>\n",
              "      <td>0</td>\n",
              "      <td>0</td>\n",
              "      <td>0</td>\n",
              "      <td>1</td>\n",
              "      <td>1</td>\n",
              "      <td>0</td>\n",
              "    </tr>\n",
              "    <tr>\n",
              "      <th>4</th>\n",
              "      <td>3</td>\n",
              "      <td>24</td>\n",
              "      <td>2</td>\n",
              "      <td>True</td>\n",
              "      <td>1</td>\n",
              "      <td>0</td>\n",
              "      <td>1</td>\n",
              "      <td>0</td>\n",
              "      <td>0</td>\n",
              "      <td>0</td>\n",
              "      <td>1</td>\n",
              "      <td>0</td>\n",
              "      <td>1</td>\n",
              "      <td>0</td>\n",
              "      <td>1</td>\n",
              "    </tr>\n",
              "  </tbody>\n",
              "</table>\n",
              "</div>\n",
              "    <div class=\"colab-df-buttons\">\n",
              "\n",
              "  <div class=\"colab-df-container\">\n",
              "    <button class=\"colab-df-convert\" onclick=\"convertToInteractive('df-41089f2b-417e-4089-bd9a-f4784c352d8e')\"\n",
              "            title=\"Convert this dataframe to an interactive table.\"\n",
              "            style=\"display:none;\">\n",
              "\n",
              "  <svg xmlns=\"http://www.w3.org/2000/svg\" height=\"24px\" viewBox=\"0 -960 960 960\">\n",
              "    <path d=\"M120-120v-720h720v720H120Zm60-500h600v-160H180v160Zm220 220h160v-160H400v160Zm0 220h160v-160H400v160ZM180-400h160v-160H180v160Zm440 0h160v-160H620v160ZM180-180h160v-160H180v160Zm440 0h160v-160H620v160Z\"/>\n",
              "  </svg>\n",
              "    </button>\n",
              "\n",
              "  <style>\n",
              "    .colab-df-container {\n",
              "      display:flex;\n",
              "      gap: 12px;\n",
              "    }\n",
              "\n",
              "    .colab-df-convert {\n",
              "      background-color: #E8F0FE;\n",
              "      border: none;\n",
              "      border-radius: 50%;\n",
              "      cursor: pointer;\n",
              "      display: none;\n",
              "      fill: #1967D2;\n",
              "      height: 32px;\n",
              "      padding: 0 0 0 0;\n",
              "      width: 32px;\n",
              "    }\n",
              "\n",
              "    .colab-df-convert:hover {\n",
              "      background-color: #E2EBFA;\n",
              "      box-shadow: 0px 1px 2px rgba(60, 64, 67, 0.3), 0px 1px 3px 1px rgba(60, 64, 67, 0.15);\n",
              "      fill: #174EA6;\n",
              "    }\n",
              "\n",
              "    .colab-df-buttons div {\n",
              "      margin-bottom: 4px;\n",
              "    }\n",
              "\n",
              "    [theme=dark] .colab-df-convert {\n",
              "      background-color: #3B4455;\n",
              "      fill: #D2E3FC;\n",
              "    }\n",
              "\n",
              "    [theme=dark] .colab-df-convert:hover {\n",
              "      background-color: #434B5C;\n",
              "      box-shadow: 0px 1px 3px 1px rgba(0, 0, 0, 0.15);\n",
              "      filter: drop-shadow(0px 1px 2px rgba(0, 0, 0, 0.3));\n",
              "      fill: #FFFFFF;\n",
              "    }\n",
              "  </style>\n",
              "\n",
              "    <script>\n",
              "      const buttonEl =\n",
              "        document.querySelector('#df-41089f2b-417e-4089-bd9a-f4784c352d8e button.colab-df-convert');\n",
              "      buttonEl.style.display =\n",
              "        google.colab.kernel.accessAllowed ? 'block' : 'none';\n",
              "\n",
              "      async function convertToInteractive(key) {\n",
              "        const element = document.querySelector('#df-41089f2b-417e-4089-bd9a-f4784c352d8e');\n",
              "        const dataTable =\n",
              "          await google.colab.kernel.invokeFunction('convertToInteractive',\n",
              "                                                    [key], {});\n",
              "        if (!dataTable) return;\n",
              "\n",
              "        const docLinkHtml = 'Like what you see? Visit the ' +\n",
              "          '<a target=\"_blank\" href=https://colab.research.google.com/notebooks/data_table.ipynb>data table notebook</a>'\n",
              "          + ' to learn more about interactive tables.';\n",
              "        element.innerHTML = '';\n",
              "        dataTable['output_type'] = 'display_data';\n",
              "        await google.colab.output.renderOutput(dataTable, element);\n",
              "        const docLink = document.createElement('div');\n",
              "        docLink.innerHTML = docLinkHtml;\n",
              "        element.appendChild(docLink);\n",
              "      }\n",
              "    </script>\n",
              "  </div>\n",
              "\n",
              "\n",
              "<div id=\"df-bab2935e-b054-4af7-ba89-4f006fce84f5\">\n",
              "  <button class=\"colab-df-quickchart\" onclick=\"quickchart('df-bab2935e-b054-4af7-ba89-4f006fce84f5')\"\n",
              "            title=\"Suggest charts.\"\n",
              "            style=\"display:none;\">\n",
              "\n",
              "<svg xmlns=\"http://www.w3.org/2000/svg\" height=\"24px\"viewBox=\"0 0 24 24\"\n",
              "     width=\"24px\">\n",
              "    <g>\n",
              "        <path d=\"M19 3H5c-1.1 0-2 .9-2 2v14c0 1.1.9 2 2 2h14c1.1 0 2-.9 2-2V5c0-1.1-.9-2-2-2zM9 17H7v-7h2v7zm4 0h-2V7h2v10zm4 0h-2v-4h2v4z\"/>\n",
              "    </g>\n",
              "</svg>\n",
              "  </button>\n",
              "\n",
              "<style>\n",
              "  .colab-df-quickchart {\n",
              "      --bg-color: #E8F0FE;\n",
              "      --fill-color: #1967D2;\n",
              "      --hover-bg-color: #E2EBFA;\n",
              "      --hover-fill-color: #174EA6;\n",
              "      --disabled-fill-color: #AAA;\n",
              "      --disabled-bg-color: #DDD;\n",
              "  }\n",
              "\n",
              "  [theme=dark] .colab-df-quickchart {\n",
              "      --bg-color: #3B4455;\n",
              "      --fill-color: #D2E3FC;\n",
              "      --hover-bg-color: #434B5C;\n",
              "      --hover-fill-color: #FFFFFF;\n",
              "      --disabled-bg-color: #3B4455;\n",
              "      --disabled-fill-color: #666;\n",
              "  }\n",
              "\n",
              "  .colab-df-quickchart {\n",
              "    background-color: var(--bg-color);\n",
              "    border: none;\n",
              "    border-radius: 50%;\n",
              "    cursor: pointer;\n",
              "    display: none;\n",
              "    fill: var(--fill-color);\n",
              "    height: 32px;\n",
              "    padding: 0;\n",
              "    width: 32px;\n",
              "  }\n",
              "\n",
              "  .colab-df-quickchart:hover {\n",
              "    background-color: var(--hover-bg-color);\n",
              "    box-shadow: 0 1px 2px rgba(60, 64, 67, 0.3), 0 1px 3px 1px rgba(60, 64, 67, 0.15);\n",
              "    fill: var(--button-hover-fill-color);\n",
              "  }\n",
              "\n",
              "  .colab-df-quickchart-complete:disabled,\n",
              "  .colab-df-quickchart-complete:disabled:hover {\n",
              "    background-color: var(--disabled-bg-color);\n",
              "    fill: var(--disabled-fill-color);\n",
              "    box-shadow: none;\n",
              "  }\n",
              "\n",
              "  .colab-df-spinner {\n",
              "    border: 2px solid var(--fill-color);\n",
              "    border-color: transparent;\n",
              "    border-bottom-color: var(--fill-color);\n",
              "    animation:\n",
              "      spin 1s steps(1) infinite;\n",
              "  }\n",
              "\n",
              "  @keyframes spin {\n",
              "    0% {\n",
              "      border-color: transparent;\n",
              "      border-bottom-color: var(--fill-color);\n",
              "      border-left-color: var(--fill-color);\n",
              "    }\n",
              "    20% {\n",
              "      border-color: transparent;\n",
              "      border-left-color: var(--fill-color);\n",
              "      border-top-color: var(--fill-color);\n",
              "    }\n",
              "    30% {\n",
              "      border-color: transparent;\n",
              "      border-left-color: var(--fill-color);\n",
              "      border-top-color: var(--fill-color);\n",
              "      border-right-color: var(--fill-color);\n",
              "    }\n",
              "    40% {\n",
              "      border-color: transparent;\n",
              "      border-right-color: var(--fill-color);\n",
              "      border-top-color: var(--fill-color);\n",
              "    }\n",
              "    60% {\n",
              "      border-color: transparent;\n",
              "      border-right-color: var(--fill-color);\n",
              "    }\n",
              "    80% {\n",
              "      border-color: transparent;\n",
              "      border-right-color: var(--fill-color);\n",
              "      border-bottom-color: var(--fill-color);\n",
              "    }\n",
              "    90% {\n",
              "      border-color: transparent;\n",
              "      border-bottom-color: var(--fill-color);\n",
              "    }\n",
              "  }\n",
              "</style>\n",
              "\n",
              "  <script>\n",
              "    async function quickchart(key) {\n",
              "      const quickchartButtonEl =\n",
              "        document.querySelector('#' + key + ' button');\n",
              "      quickchartButtonEl.disabled = true;  // To prevent multiple clicks.\n",
              "      quickchartButtonEl.classList.add('colab-df-spinner');\n",
              "      try {\n",
              "        const charts = await google.colab.kernel.invokeFunction(\n",
              "            'suggestCharts', [key], {});\n",
              "      } catch (error) {\n",
              "        console.error('Error during call to suggestCharts:', error);\n",
              "      }\n",
              "      quickchartButtonEl.classList.remove('colab-df-spinner');\n",
              "      quickchartButtonEl.classList.add('colab-df-quickchart-complete');\n",
              "    }\n",
              "    (() => {\n",
              "      let quickchartButtonEl =\n",
              "        document.querySelector('#df-bab2935e-b054-4af7-ba89-4f006fce84f5 button');\n",
              "      quickchartButtonEl.style.display =\n",
              "        google.colab.kernel.accessAllowed ? 'block' : 'none';\n",
              "    })();\n",
              "  </script>\n",
              "</div>\n",
              "    </div>\n",
              "  </div>\n"
            ]
          },
          "metadata": {},
          "execution_count": 1017
        }
      ]
    },
    {
      "cell_type": "markdown",
      "source": [
        "Education, City, EverBenched and Gender -> All 4 columns (columns with object data type) has been encoded"
      ],
      "metadata": {
        "id": "SHqpsP2ePLx2"
      }
    },
    {
      "cell_type": "code",
      "source": [
        "df.shape"
      ],
      "metadata": {
        "colab": {
          "base_uri": "https://localhost:8080/"
        },
        "id": "ylkRKbMIC1vN",
        "outputId": "5843dff1-8287-4707-81c3-7411bd559ed3"
      },
      "execution_count": 1018,
      "outputs": [
        {
          "output_type": "execute_result",
          "data": {
            "text/plain": [
              "(2764, 15)"
            ]
          },
          "metadata": {},
          "execution_count": 1018
        }
      ]
    },
    {
      "cell_type": "markdown",
      "source": [
        "## Question a - 3 => Standardization"
      ],
      "metadata": {
        "id": "cf2e6yXD9UwE"
      }
    },
    {
      "cell_type": "code",
      "source": [
        "df.dtypes"
      ],
      "metadata": {
        "colab": {
          "base_uri": "https://localhost:8080/"
        },
        "id": "vIImQsG-DQvM",
        "outputId": "947ab96c-5936-4972-f011-e9adcfe1d5fa"
      },
      "execution_count": 1019,
      "outputs": [
        {
          "output_type": "execute_result",
          "data": {
            "text/plain": [
              "PaymentTier                  int64\n",
              "Age                          int64\n",
              "ExperienceInCurrentDomain    int64\n",
              "LeaveOrNot                    bool\n",
              "YearsSinceJoining            int64\n",
              "Education_Bachelors          uint8\n",
              "Education_Masters            uint8\n",
              "Education_PHD                uint8\n",
              "City_Bangalore               uint8\n",
              "City_New Delhi               uint8\n",
              "City_Pune                    uint8\n",
              "Gender_Female                uint8\n",
              "Gender_Male                  uint8\n",
              "EverBenched_No               uint8\n",
              "EverBenched_Yes              uint8\n",
              "dtype: object"
            ]
          },
          "metadata": {},
          "execution_count": 1019
        }
      ]
    },
    {
      "cell_type": "markdown",
      "source": [
        "In the above columns -->> Age, PaymentTier, ExperienceInCurrentDomain, and YearsSinceJoining -->> These 4 are in int datatype. But on the aboce PaymentTier does not give any numerical meaning, it's just an catergorization. And for the age, I am doing discritization, that's why haven't done standardization -->> For the remaining 2 numerical columns I have done standardization."
      ],
      "metadata": {
        "id": "6QzB20UzDaRi"
      }
    },
    {
      "cell_type": "code",
      "source": [
        "from sklearn.preprocessing import StandardScaler\n",
        "\n",
        "# Specify the columns to scale and standardize\n",
        "columns_to_scale = ['ExperienceInCurrentDomain', 'YearsSinceJoining']\n",
        "\n",
        "# Initialize the StandardScaler\n",
        "scaler = StandardScaler()\n",
        "\n",
        "# Fit and transform the selected columns\n",
        "df[columns_to_scale] = scaler.fit_transform(df[columns_to_scale])\n",
        "\n",
        "df.head()"
      ],
      "metadata": {
        "colab": {
          "base_uri": "https://localhost:8080/",
          "height": 243
        },
        "id": "PBgo72cMhwzI",
        "outputId": "a0396e5d-46e0-4c0b-d95a-4e79e8b2c0fd"
      },
      "execution_count": 1020,
      "outputs": [
        {
          "output_type": "execute_result",
          "data": {
            "text/plain": [
              "   PaymentTier  Age  ExperienceInCurrentDomain  LeaveOrNot  YearsSinceJoining  \\\n",
              "0            3   34                  -1.642132       False          -1.012701   \n",
              "1            1   28                   0.220853        True           1.108637   \n",
              "2            3   38                  -0.400142       False           0.578303   \n",
              "3            3   27                   1.462843        True          -0.482367   \n",
              "4            3   24                  -0.400142        True          -1.012701   \n",
              "\n",
              "   Education_Bachelors  Education_Masters  Education_PHD  City_Bangalore  \\\n",
              "0                    1                  0              0               1   \n",
              "1                    1                  0              0               0   \n",
              "2                    1                  0              0               0   \n",
              "3                    0                  1              0               1   \n",
              "4                    0                  1              0               0   \n",
              "\n",
              "   City_New Delhi  City_Pune  Gender_Female  Gender_Male  EverBenched_No  \\\n",
              "0               0          0              0            1               1   \n",
              "1               0          1              1            0               1   \n",
              "2               1          0              1            0               1   \n",
              "3               0          0              0            1               1   \n",
              "4               0          1              0            1               0   \n",
              "\n",
              "   EverBenched_Yes  \n",
              "0                0  \n",
              "1                0  \n",
              "2                0  \n",
              "3                0  \n",
              "4                1  "
            ],
            "text/html": [
              "\n",
              "  <div id=\"df-78e88f66-5bbf-4613-8b72-658e28dca098\" class=\"colab-df-container\">\n",
              "    <div>\n",
              "<style scoped>\n",
              "    .dataframe tbody tr th:only-of-type {\n",
              "        vertical-align: middle;\n",
              "    }\n",
              "\n",
              "    .dataframe tbody tr th {\n",
              "        vertical-align: top;\n",
              "    }\n",
              "\n",
              "    .dataframe thead th {\n",
              "        text-align: right;\n",
              "    }\n",
              "</style>\n",
              "<table border=\"1\" class=\"dataframe\">\n",
              "  <thead>\n",
              "    <tr style=\"text-align: right;\">\n",
              "      <th></th>\n",
              "      <th>PaymentTier</th>\n",
              "      <th>Age</th>\n",
              "      <th>ExperienceInCurrentDomain</th>\n",
              "      <th>LeaveOrNot</th>\n",
              "      <th>YearsSinceJoining</th>\n",
              "      <th>Education_Bachelors</th>\n",
              "      <th>Education_Masters</th>\n",
              "      <th>Education_PHD</th>\n",
              "      <th>City_Bangalore</th>\n",
              "      <th>City_New Delhi</th>\n",
              "      <th>City_Pune</th>\n",
              "      <th>Gender_Female</th>\n",
              "      <th>Gender_Male</th>\n",
              "      <th>EverBenched_No</th>\n",
              "      <th>EverBenched_Yes</th>\n",
              "    </tr>\n",
              "  </thead>\n",
              "  <tbody>\n",
              "    <tr>\n",
              "      <th>0</th>\n",
              "      <td>3</td>\n",
              "      <td>34</td>\n",
              "      <td>-1.642132</td>\n",
              "      <td>False</td>\n",
              "      <td>-1.012701</td>\n",
              "      <td>1</td>\n",
              "      <td>0</td>\n",
              "      <td>0</td>\n",
              "      <td>1</td>\n",
              "      <td>0</td>\n",
              "      <td>0</td>\n",
              "      <td>0</td>\n",
              "      <td>1</td>\n",
              "      <td>1</td>\n",
              "      <td>0</td>\n",
              "    </tr>\n",
              "    <tr>\n",
              "      <th>1</th>\n",
              "      <td>1</td>\n",
              "      <td>28</td>\n",
              "      <td>0.220853</td>\n",
              "      <td>True</td>\n",
              "      <td>1.108637</td>\n",
              "      <td>1</td>\n",
              "      <td>0</td>\n",
              "      <td>0</td>\n",
              "      <td>0</td>\n",
              "      <td>0</td>\n",
              "      <td>1</td>\n",
              "      <td>1</td>\n",
              "      <td>0</td>\n",
              "      <td>1</td>\n",
              "      <td>0</td>\n",
              "    </tr>\n",
              "    <tr>\n",
              "      <th>2</th>\n",
              "      <td>3</td>\n",
              "      <td>38</td>\n",
              "      <td>-0.400142</td>\n",
              "      <td>False</td>\n",
              "      <td>0.578303</td>\n",
              "      <td>1</td>\n",
              "      <td>0</td>\n",
              "      <td>0</td>\n",
              "      <td>0</td>\n",
              "      <td>1</td>\n",
              "      <td>0</td>\n",
              "      <td>1</td>\n",
              "      <td>0</td>\n",
              "      <td>1</td>\n",
              "      <td>0</td>\n",
              "    </tr>\n",
              "    <tr>\n",
              "      <th>3</th>\n",
              "      <td>3</td>\n",
              "      <td>27</td>\n",
              "      <td>1.462843</td>\n",
              "      <td>True</td>\n",
              "      <td>-0.482367</td>\n",
              "      <td>0</td>\n",
              "      <td>1</td>\n",
              "      <td>0</td>\n",
              "      <td>1</td>\n",
              "      <td>0</td>\n",
              "      <td>0</td>\n",
              "      <td>0</td>\n",
              "      <td>1</td>\n",
              "      <td>1</td>\n",
              "      <td>0</td>\n",
              "    </tr>\n",
              "    <tr>\n",
              "      <th>4</th>\n",
              "      <td>3</td>\n",
              "      <td>24</td>\n",
              "      <td>-0.400142</td>\n",
              "      <td>True</td>\n",
              "      <td>-1.012701</td>\n",
              "      <td>0</td>\n",
              "      <td>1</td>\n",
              "      <td>0</td>\n",
              "      <td>0</td>\n",
              "      <td>0</td>\n",
              "      <td>1</td>\n",
              "      <td>0</td>\n",
              "      <td>1</td>\n",
              "      <td>0</td>\n",
              "      <td>1</td>\n",
              "    </tr>\n",
              "  </tbody>\n",
              "</table>\n",
              "</div>\n",
              "    <div class=\"colab-df-buttons\">\n",
              "\n",
              "  <div class=\"colab-df-container\">\n",
              "    <button class=\"colab-df-convert\" onclick=\"convertToInteractive('df-78e88f66-5bbf-4613-8b72-658e28dca098')\"\n",
              "            title=\"Convert this dataframe to an interactive table.\"\n",
              "            style=\"display:none;\">\n",
              "\n",
              "  <svg xmlns=\"http://www.w3.org/2000/svg\" height=\"24px\" viewBox=\"0 -960 960 960\">\n",
              "    <path d=\"M120-120v-720h720v720H120Zm60-500h600v-160H180v160Zm220 220h160v-160H400v160Zm0 220h160v-160H400v160ZM180-400h160v-160H180v160Zm440 0h160v-160H620v160ZM180-180h160v-160H180v160Zm440 0h160v-160H620v160Z\"/>\n",
              "  </svg>\n",
              "    </button>\n",
              "\n",
              "  <style>\n",
              "    .colab-df-container {\n",
              "      display:flex;\n",
              "      gap: 12px;\n",
              "    }\n",
              "\n",
              "    .colab-df-convert {\n",
              "      background-color: #E8F0FE;\n",
              "      border: none;\n",
              "      border-radius: 50%;\n",
              "      cursor: pointer;\n",
              "      display: none;\n",
              "      fill: #1967D2;\n",
              "      height: 32px;\n",
              "      padding: 0 0 0 0;\n",
              "      width: 32px;\n",
              "    }\n",
              "\n",
              "    .colab-df-convert:hover {\n",
              "      background-color: #E2EBFA;\n",
              "      box-shadow: 0px 1px 2px rgba(60, 64, 67, 0.3), 0px 1px 3px 1px rgba(60, 64, 67, 0.15);\n",
              "      fill: #174EA6;\n",
              "    }\n",
              "\n",
              "    .colab-df-buttons div {\n",
              "      margin-bottom: 4px;\n",
              "    }\n",
              "\n",
              "    [theme=dark] .colab-df-convert {\n",
              "      background-color: #3B4455;\n",
              "      fill: #D2E3FC;\n",
              "    }\n",
              "\n",
              "    [theme=dark] .colab-df-convert:hover {\n",
              "      background-color: #434B5C;\n",
              "      box-shadow: 0px 1px 3px 1px rgba(0, 0, 0, 0.15);\n",
              "      filter: drop-shadow(0px 1px 2px rgba(0, 0, 0, 0.3));\n",
              "      fill: #FFFFFF;\n",
              "    }\n",
              "  </style>\n",
              "\n",
              "    <script>\n",
              "      const buttonEl =\n",
              "        document.querySelector('#df-78e88f66-5bbf-4613-8b72-658e28dca098 button.colab-df-convert');\n",
              "      buttonEl.style.display =\n",
              "        google.colab.kernel.accessAllowed ? 'block' : 'none';\n",
              "\n",
              "      async function convertToInteractive(key) {\n",
              "        const element = document.querySelector('#df-78e88f66-5bbf-4613-8b72-658e28dca098');\n",
              "        const dataTable =\n",
              "          await google.colab.kernel.invokeFunction('convertToInteractive',\n",
              "                                                    [key], {});\n",
              "        if (!dataTable) return;\n",
              "\n",
              "        const docLinkHtml = 'Like what you see? Visit the ' +\n",
              "          '<a target=\"_blank\" href=https://colab.research.google.com/notebooks/data_table.ipynb>data table notebook</a>'\n",
              "          + ' to learn more about interactive tables.';\n",
              "        element.innerHTML = '';\n",
              "        dataTable['output_type'] = 'display_data';\n",
              "        await google.colab.output.renderOutput(dataTable, element);\n",
              "        const docLink = document.createElement('div');\n",
              "        docLink.innerHTML = docLinkHtml;\n",
              "        element.appendChild(docLink);\n",
              "      }\n",
              "    </script>\n",
              "  </div>\n",
              "\n",
              "\n",
              "<div id=\"df-da3b6b28-084a-4a8b-91c9-0ae2cb4f6dd0\">\n",
              "  <button class=\"colab-df-quickchart\" onclick=\"quickchart('df-da3b6b28-084a-4a8b-91c9-0ae2cb4f6dd0')\"\n",
              "            title=\"Suggest charts.\"\n",
              "            style=\"display:none;\">\n",
              "\n",
              "<svg xmlns=\"http://www.w3.org/2000/svg\" height=\"24px\"viewBox=\"0 0 24 24\"\n",
              "     width=\"24px\">\n",
              "    <g>\n",
              "        <path d=\"M19 3H5c-1.1 0-2 .9-2 2v14c0 1.1.9 2 2 2h14c1.1 0 2-.9 2-2V5c0-1.1-.9-2-2-2zM9 17H7v-7h2v7zm4 0h-2V7h2v10zm4 0h-2v-4h2v4z\"/>\n",
              "    </g>\n",
              "</svg>\n",
              "  </button>\n",
              "\n",
              "<style>\n",
              "  .colab-df-quickchart {\n",
              "      --bg-color: #E8F0FE;\n",
              "      --fill-color: #1967D2;\n",
              "      --hover-bg-color: #E2EBFA;\n",
              "      --hover-fill-color: #174EA6;\n",
              "      --disabled-fill-color: #AAA;\n",
              "      --disabled-bg-color: #DDD;\n",
              "  }\n",
              "\n",
              "  [theme=dark] .colab-df-quickchart {\n",
              "      --bg-color: #3B4455;\n",
              "      --fill-color: #D2E3FC;\n",
              "      --hover-bg-color: #434B5C;\n",
              "      --hover-fill-color: #FFFFFF;\n",
              "      --disabled-bg-color: #3B4455;\n",
              "      --disabled-fill-color: #666;\n",
              "  }\n",
              "\n",
              "  .colab-df-quickchart {\n",
              "    background-color: var(--bg-color);\n",
              "    border: none;\n",
              "    border-radius: 50%;\n",
              "    cursor: pointer;\n",
              "    display: none;\n",
              "    fill: var(--fill-color);\n",
              "    height: 32px;\n",
              "    padding: 0;\n",
              "    width: 32px;\n",
              "  }\n",
              "\n",
              "  .colab-df-quickchart:hover {\n",
              "    background-color: var(--hover-bg-color);\n",
              "    box-shadow: 0 1px 2px rgba(60, 64, 67, 0.3), 0 1px 3px 1px rgba(60, 64, 67, 0.15);\n",
              "    fill: var(--button-hover-fill-color);\n",
              "  }\n",
              "\n",
              "  .colab-df-quickchart-complete:disabled,\n",
              "  .colab-df-quickchart-complete:disabled:hover {\n",
              "    background-color: var(--disabled-bg-color);\n",
              "    fill: var(--disabled-fill-color);\n",
              "    box-shadow: none;\n",
              "  }\n",
              "\n",
              "  .colab-df-spinner {\n",
              "    border: 2px solid var(--fill-color);\n",
              "    border-color: transparent;\n",
              "    border-bottom-color: var(--fill-color);\n",
              "    animation:\n",
              "      spin 1s steps(1) infinite;\n",
              "  }\n",
              "\n",
              "  @keyframes spin {\n",
              "    0% {\n",
              "      border-color: transparent;\n",
              "      border-bottom-color: var(--fill-color);\n",
              "      border-left-color: var(--fill-color);\n",
              "    }\n",
              "    20% {\n",
              "      border-color: transparent;\n",
              "      border-left-color: var(--fill-color);\n",
              "      border-top-color: var(--fill-color);\n",
              "    }\n",
              "    30% {\n",
              "      border-color: transparent;\n",
              "      border-left-color: var(--fill-color);\n",
              "      border-top-color: var(--fill-color);\n",
              "      border-right-color: var(--fill-color);\n",
              "    }\n",
              "    40% {\n",
              "      border-color: transparent;\n",
              "      border-right-color: var(--fill-color);\n",
              "      border-top-color: var(--fill-color);\n",
              "    }\n",
              "    60% {\n",
              "      border-color: transparent;\n",
              "      border-right-color: var(--fill-color);\n",
              "    }\n",
              "    80% {\n",
              "      border-color: transparent;\n",
              "      border-right-color: var(--fill-color);\n",
              "      border-bottom-color: var(--fill-color);\n",
              "    }\n",
              "    90% {\n",
              "      border-color: transparent;\n",
              "      border-bottom-color: var(--fill-color);\n",
              "    }\n",
              "  }\n",
              "</style>\n",
              "\n",
              "  <script>\n",
              "    async function quickchart(key) {\n",
              "      const quickchartButtonEl =\n",
              "        document.querySelector('#' + key + ' button');\n",
              "      quickchartButtonEl.disabled = true;  // To prevent multiple clicks.\n",
              "      quickchartButtonEl.classList.add('colab-df-spinner');\n",
              "      try {\n",
              "        const charts = await google.colab.kernel.invokeFunction(\n",
              "            'suggestCharts', [key], {});\n",
              "      } catch (error) {\n",
              "        console.error('Error during call to suggestCharts:', error);\n",
              "      }\n",
              "      quickchartButtonEl.classList.remove('colab-df-spinner');\n",
              "      quickchartButtonEl.classList.add('colab-df-quickchart-complete');\n",
              "    }\n",
              "    (() => {\n",
              "      let quickchartButtonEl =\n",
              "        document.querySelector('#df-da3b6b28-084a-4a8b-91c9-0ae2cb4f6dd0 button');\n",
              "      quickchartButtonEl.style.display =\n",
              "        google.colab.kernel.accessAllowed ? 'block' : 'none';\n",
              "    })();\n",
              "  </script>\n",
              "</div>\n",
              "    </div>\n",
              "  </div>\n"
            ]
          },
          "metadata": {},
          "execution_count": 1020
        }
      ]
    },
    {
      "cell_type": "code",
      "source": [
        "experience_data = df['ExperienceInCurrentDomain']\n",
        "\n",
        "# Count the frequency of each unique value\n",
        "value_counts = experience_data.value_counts()\n",
        "\n",
        "# Sort the values by their index (Experience values)\n",
        "sorted_counts = value_counts.sort_index()\n",
        "\n",
        "# Create a bar plot to show the distribution of unique values\n",
        "plt.figure(figsize=(5,3))\n",
        "plt.bar(sorted_counts.index, sorted_counts.values, color='skyblue', edgecolor='black')\n",
        "plt.title('Experience In Current Domain Distribution')\n",
        "plt.xlabel('Experience In Current Domain')\n",
        "plt.ylabel('Frequency')\n",
        "plt.xticks(rotation=45)  # Rotate x-axis labels for readability\n",
        "plt.grid(axis='y', linestyle='--', alpha=0.7)\n",
        "plt.show()"
      ],
      "metadata": {
        "colab": {
          "base_uri": "https://localhost:8080/",
          "height": 344
        },
        "id": "SUGOnZTCTe8C",
        "outputId": "b03b598d-36fd-4d69-c5f5-740a32af5ec0"
      },
      "execution_count": 1021,
      "outputs": [
        {
          "output_type": "display_data",
          "data": {
            "text/plain": [
              "<Figure size 500x300 with 1 Axes>"
            ],
            "image/png": "[encoded data removed]"
          },
          "metadata": {}
        }
      ]
    },
    {
      "cell_type": "code",
      "source": [
        "years_since_joining = df['YearsSinceJoining']\n",
        "\n",
        "# Count the frequency of each unique value\n",
        "value_counts = years_since_joining.value_counts()\n",
        "\n",
        "# Sort the values by their index (Experience values)\n",
        "sorted_counts = value_counts.sort_index()\n",
        "\n",
        "# Create a bar plot to show the distribution of unique values\n",
        "plt.figure(figsize=(5,3))\n",
        "plt.bar(sorted_counts.index, sorted_counts.values, color='skyblue', edgecolor='black')\n",
        "plt.title('Years Since Joining Distribution')\n",
        "plt.xlabel('Years Since Joining')\n",
        "plt.ylabel('Frequency')\n",
        "plt.xticks(rotation=45)  # Rotate x-axis labels for readability\n",
        "plt.grid(axis='y', linestyle='--', alpha=0.7)\n",
        "plt.show()"
      ],
      "metadata": {
        "colab": {
          "base_uri": "https://localhost:8080/",
          "height": 353
        },
        "id": "1V_B2kE0VV4v",
        "outputId": "ac6917c4-c199-42a5-8bb3-f804d997aa67"
      },
      "execution_count": 1022,
      "outputs": [
        {
          "output_type": "display_data",
          "data": {
            "text/plain": [
              "<Figure size 500x300 with 1 Axes>"
            ],
            "image/png": "[encoded data removed]"
          },
          "metadata": {}
        }
      ]
    },
    {
      "cell_type": "markdown",
      "source": [
        "## Question a - 4 => Discretization"
      ],
      "metadata": {
        "id": "j8Zpft9U9cT2"
      }
    },
    {
      "cell_type": "markdown",
      "source": [
        "Here, I have done the Equal Frequency Discretization for Age columns - Since Age is a skewed distribution (So I haven't done Equal width discritization)"
      ],
      "metadata": {
        "id": "UP_yeeoCZrOu"
      }
    },
    {
      "cell_type": "code",
      "source": [
        "age_bins = pd.qcut(df['Age'], q=6, labels=None, retbins=True, duplicates='raise')\n",
        "df['Age Bins'] = pd.cut(x=df['Age'], bins=age_bins[1])\n",
        "df.head()"
      ],
      "metadata": {
        "colab": {
          "base_uri": "https://localhost:8080/",
          "height": 330
        },
        "id": "a0qfp9UUZ5YY",
        "outputId": "53c554de-76ff-44dc-d559-b478069c37e8"
      },
      "execution_count": 1023,
      "outputs": [
        {
          "output_type": "execute_result",
          "data": {
            "text/plain": [
              "   PaymentTier  Age  ExperienceInCurrentDomain  LeaveOrNot  YearsSinceJoining  \\\n",
              "0            3   34                  -1.642132       False          -1.012701   \n",
              "1            1   28                   0.220853        True           1.108637   \n",
              "2            3   38                  -0.400142       False           0.578303   \n",
              "3            3   27                   1.462843        True          -0.482367   \n",
              "4            3   24                  -0.400142        True          -1.012701   \n",
              "\n",
              "   Education_Bachelors  Education_Masters  Education_PHD  City_Bangalore  \\\n",
              "0                    1                  0              0               1   \n",
              "1                    1                  0              0               0   \n",
              "2                    1                  0              0               0   \n",
              "3                    0                  1              0               1   \n",
              "4                    0                  1              0               0   \n",
              "\n",
              "   City_New Delhi  City_Pune  Gender_Female  Gender_Male  EverBenched_No  \\\n",
              "0               0          0              0            1               1   \n",
              "1               0          1              1            0               1   \n",
              "2               1          0              1            0               1   \n",
              "3               0          0              0            1               1   \n",
              "4               0          1              0            1               0   \n",
              "\n",
              "   EverBenched_Yes      Age Bins  \n",
              "0                0  (33.0, 37.0]  \n",
              "1                0  (26.0, 28.0]  \n",
              "2                0  (37.0, 41.0]  \n",
              "3                0  (26.0, 28.0]  \n",
              "4                1  (22.0, 26.0]  "
            ],
            "text/html": [
              "\n",
              "  <div id=\"df-0f154871-9c4e-4be4-9710-2deb55df957b\" class=\"colab-df-container\">\n",
              "    <div>\n",
              "<style scoped>\n",
              "    .dataframe tbody tr th:only-of-type {\n",
              "        vertical-align: middle;\n",
              "    }\n",
              "\n",
              "    .dataframe tbody tr th {\n",
              "        vertical-align: top;\n",
              "    }\n",
              "\n",
              "    .dataframe thead th {\n",
              "        text-align: right;\n",
              "    }\n",
              "</style>\n",
              "<table border=\"1\" class=\"dataframe\">\n",
              "  <thead>\n",
              "    <tr style=\"text-align: right;\">\n",
              "      <th></th>\n",
              "      <th>PaymentTier</th>\n",
              "      <th>Age</th>\n",
              "      <th>ExperienceInCurrentDomain</th>\n",
              "      <th>LeaveOrNot</th>\n",
              "      <th>YearsSinceJoining</th>\n",
              "      <th>Education_Bachelors</th>\n",
              "      <th>Education_Masters</th>\n",
              "      <th>Education_PHD</th>\n",
              "      <th>City_Bangalore</th>\n",
              "      <th>City_New Delhi</th>\n",
              "      <th>City_Pune</th>\n",
              "      <th>Gender_Female</th>\n",
              "      <th>Gender_Male</th>\n",
              "      <th>EverBenched_No</th>\n",
              "      <th>EverBenched_Yes</th>\n",
              "      <th>Age Bins</th>\n",
              "    </tr>\n",
              "  </thead>\n",
              "  <tbody>\n",
              "    <tr>\n",
              "      <th>0</th>\n",
              "      <td>3</td>\n",
              "      <td>34</td>\n",
              "      <td>-1.642132</td>\n",
              "      <td>False</td>\n",
              "      <td>-1.012701</td>\n",
              "      <td>1</td>\n",
              "      <td>0</td>\n",
              "      <td>0</td>\n",
              "      <td>1</td>\n",
              "      <td>0</td>\n",
              "      <td>0</td>\n",
              "      <td>0</td>\n",
              "      <td>1</td>\n",
              "      <td>1</td>\n",
              "      <td>0</td>\n",
              "      <td>(33.0, 37.0]</td>\n",
              "    </tr>\n",
              "    <tr>\n",
              "      <th>1</th>\n",
              "      <td>1</td>\n",
              "      <td>28</td>\n",
              "      <td>0.220853</td>\n",
              "      <td>True</td>\n",
              "      <td>1.108637</td>\n",
              "      <td>1</td>\n",
              "      <td>0</td>\n",
              "      <td>0</td>\n",
              "      <td>0</td>\n",
              "      <td>0</td>\n",
              "      <td>1</td>\n",
              "      <td>1</td>\n",
              "      <td>0</td>\n",
              "      <td>1</td>\n",
              "      <td>0</td>\n",
              "      <td>(26.0, 28.0]</td>\n",
              "    </tr>\n",
              "    <tr>\n",
              "      <th>2</th>\n",
              "      <td>3</td>\n",
              "      <td>38</td>\n",
              "      <td>-0.400142</td>\n",
              "      <td>False</td>\n",
              "      <td>0.578303</td>\n",
              "      <td>1</td>\n",
              "      <td>0</td>\n",
              "      <td>0</td>\n",
              "      <td>0</td>\n",
              "      <td>1</td>\n",
              "      <td>0</td>\n",
              "      <td>1</td>\n",
              "      <td>0</td>\n",
              "      <td>1</td>\n",
              "      <td>0</td>\n",
              "      <td>(37.0, 41.0]</td>\n",
              "    </tr>\n",
              "    <tr>\n",
              "      <th>3</th>\n",
              "      <td>3</td>\n",
              "      <td>27</td>\n",
              "      <td>1.462843</td>\n",
              "      <td>True</td>\n",
              "      <td>-0.482367</td>\n",
              "      <td>0</td>\n",
              "      <td>1</td>\n",
              "      <td>0</td>\n",
              "      <td>1</td>\n",
              "      <td>0</td>\n",
              "      <td>0</td>\n",
              "      <td>0</td>\n",
              "      <td>1</td>\n",
              "      <td>1</td>\n",
              "      <td>0</td>\n",
              "      <td>(26.0, 28.0]</td>\n",
              "    </tr>\n",
              "    <tr>\n",
              "      <th>4</th>\n",
              "      <td>3</td>\n",
              "      <td>24</td>\n",
              "      <td>-0.400142</td>\n",
              "      <td>True</td>\n",
              "      <td>-1.012701</td>\n",
              "      <td>0</td>\n",
              "      <td>1</td>\n",
              "      <td>0</td>\n",
              "      <td>0</td>\n",
              "      <td>0</td>\n",
              "      <td>1</td>\n",
              "      <td>0</td>\n",
              "      <td>1</td>\n",
              "      <td>0</td>\n",
              "      <td>1</td>\n",
              "      <td>(22.0, 26.0]</td>\n",
              "    </tr>\n",
              "  </tbody>\n",
              "</table>\n",
              "</div>\n",
              "    <div class=\"colab-df-buttons\">\n",
              "\n",
              "  <div class=\"colab-df-container\">\n",
              "    <button class=\"colab-df-convert\" onclick=\"convertToInteractive('df-0f154871-9c4e-4be4-9710-2deb55df957b')\"\n",
              "            title=\"Convert this dataframe to an interactive table.\"\n",
              "            style=\"display:none;\">\n",
              "\n",
              "  <svg xmlns=\"http://www.w3.org/2000/svg\" height=\"24px\" viewBox=\"0 -960 960 960\">\n",
              "    <path d=\"M120-120v-720h720v720H120Zm60-500h600v-160H180v160Zm220 220h160v-160H400v160Zm0 220h160v-160H400v160ZM180-400h160v-160H180v160Zm440 0h160v-160H620v160ZM180-180h160v-160H180v160Zm440 0h160v-160H620v160Z\"/>\n",
              "  </svg>\n",
              "    </button>\n",
              "\n",
              "  <style>\n",
              "    .colab-df-container {\n",
              "      display:flex;\n",
              "      gap: 12px;\n",
              "    }\n",
              "\n",
              "    .colab-df-convert {\n",
              "      background-color: #E8F0FE;\n",
              "      border: none;\n",
              "      border-radius: 50%;\n",
              "      cursor: pointer;\n",
              "      display: none;\n",
              "      fill: #1967D2;\n",
              "      height: 32px;\n",
              "      padding: 0 0 0 0;\n",
              "      width: 32px;\n",
              "    }\n",
              "\n",
              "    .colab-df-convert:hover {\n",
              "      background-color: #E2EBFA;\n",
              "      box-shadow: 0px 1px 2px rgba(60, 64, 67, 0.3), 0px 1px 3px 1px rgba(60, 64, 67, 0.15);\n",
              "      fill: #174EA6;\n",
              "    }\n",
              "\n",
              "    .colab-df-buttons div {\n",
              "      margin-bottom: 4px;\n",
              "    }\n",
              "\n",
              "    [theme=dark] .colab-df-convert {\n",
              "      background-color: #3B4455;\n",
              "      fill: #D2E3FC;\n",
              "    }\n",
              "\n",
              "    [theme=dark] .colab-df-convert:hover {\n",
              "      background-color: #434B5C;\n",
              "      box-shadow: 0px 1px 3px 1px rgba(0, 0, 0, 0.15);\n",
              "      filter: drop-shadow(0px 1px 2px rgba(0, 0, 0, 0.3));\n",
              "      fill: #FFFFFF;\n",
              "    }\n",
              "  </style>\n",
              "\n",
              "    <script>\n",
              "      const buttonEl =\n",
              "        document.querySelector('#df-0f154871-9c4e-4be4-9710-2deb55df957b button.colab-df-convert');\n",
              "      buttonEl.style.display =\n",
              "        google.colab.kernel.accessAllowed ? 'block' : 'none';\n",
              "\n",
              "      async function convertToInteractive(key) {\n",
              "        const element = document.querySelector('#df-0f154871-9c4e-4be4-9710-2deb55df957b');\n",
              "        const dataTable =\n",
              "          await google.colab.kernel.invokeFunction('convertToInteractive',\n",
              "                                                    [key], {});\n",
              "        if (!dataTable) return;\n",
              "\n",
              "        const docLinkHtml = 'Like what you see? Visit the ' +\n",
              "          '<a target=\"_blank\" href=https://colab.research.google.com/notebooks/data_table.ipynb>data table notebook</a>'\n",
              "          + ' to learn more about interactive tables.';\n",
              "        element.innerHTML = '';\n",
              "        dataTable['output_type'] = 'display_data';\n",
              "        await google.colab.output.renderOutput(dataTable, element);\n",
              "        const docLink = document.createElement('div');\n",
              "        docLink.innerHTML = docLinkHtml;\n",
              "        element.appendChild(docLink);\n",
              "      }\n",
              "    </script>\n",
              "  </div>\n",
              "\n",
              "\n",
              "<div id=\"df-d4acd899-9c6c-4e7c-8b89-5be879921d73\">\n",
              "  <button class=\"colab-df-quickchart\" onclick=\"quickchart('df-d4acd899-9c6c-4e7c-8b89-5be879921d73')\"\n",
              "            title=\"Suggest charts.\"\n",
              "            style=\"display:none;\">\n",
              "\n",
              "<svg xmlns=\"http://www.w3.org/2000/svg\" height=\"24px\"viewBox=\"0 0 24 24\"\n",
              "     width=\"24px\">\n",
              "    <g>\n",
              "        <path d=\"M19 3H5c-1.1 0-2 .9-2 2v14c0 1.1.9 2 2 2h14c1.1 0 2-.9 2-2V5c0-1.1-.9-2-2-2zM9 17H7v-7h2v7zm4 0h-2V7h2v10zm4 0h-2v-4h2v4z\"/>\n",
              "    </g>\n",
              "</svg>\n",
              "  </button>\n",
              "\n",
              "<style>\n",
              "  .colab-df-quickchart {\n",
              "      --bg-color: #E8F0FE;\n",
              "      --fill-color: #1967D2;\n",
              "      --hover-bg-color: #E2EBFA;\n",
              "      --hover-fill-color: #174EA6;\n",
              "      --disabled-fill-color: #AAA;\n",
              "      --disabled-bg-color: #DDD;\n",
              "  }\n",
              "\n",
              "  [theme=dark] .colab-df-quickchart {\n",
              "      --bg-color: #3B4455;\n",
              "      --fill-color: #D2E3FC;\n",
              "      --hover-bg-color: #434B5C;\n",
              "      --hover-fill-color: #FFFFFF;\n",
              "      --disabled-bg-color: #3B4455;\n",
              "      --disabled-fill-color: #666;\n",
              "  }\n",
              "\n",
              "  .colab-df-quickchart {\n",
              "    background-color: var(--bg-color);\n",
              "    border: none;\n",
              "    border-radius: 50%;\n",
              "    cursor: pointer;\n",
              "    display: none;\n",
              "    fill: var(--fill-color);\n",
              "    height: 32px;\n",
              "    padding: 0;\n",
              "    width: 32px;\n",
              "  }\n",
              "\n",
              "  .colab-df-quickchart:hover {\n",
              "    background-color: var(--hover-bg-color);\n",
              "    box-shadow: 0 1px 2px rgba(60, 64, 67, 0.3), 0 1px 3px 1px rgba(60, 64, 67, 0.15);\n",
              "    fill: var(--button-hover-fill-color);\n",
              "  }\n",
              "\n",
              "  .colab-df-quickchart-complete:disabled,\n",
              "  .colab-df-quickchart-complete:disabled:hover {\n",
              "    background-color: var(--disabled-bg-color);\n",
              "    fill: var(--disabled-fill-color);\n",
              "    box-shadow: none;\n",
              "  }\n",
              "\n",
              "  .colab-df-spinner {\n",
              "    border: 2px solid var(--fill-color);\n",
              "    border-color: transparent;\n",
              "    border-bottom-color: var(--fill-color);\n",
              "    animation:\n",
              "      spin 1s steps(1) infinite;\n",
              "  }\n",
              "\n",
              "  @keyframes spin {\n",
              "    0% {\n",
              "      border-color: transparent;\n",
              "      border-bottom-color: var(--fill-color);\n",
              "      border-left-color: var(--fill-color);\n",
              "    }\n",
              "    20% {\n",
              "      border-color: transparent;\n",
              "      border-left-color: var(--fill-color);\n",
              "      border-top-color: var(--fill-color);\n",
              "    }\n",
              "    30% {\n",
              "      border-color: transparent;\n",
              "      border-left-color: var(--fill-color);\n",
              "      border-top-color: var(--fill-color);\n",
              "      border-right-color: var(--fill-color);\n",
              "    }\n",
              "    40% {\n",
              "      border-color: transparent;\n",
              "      border-right-color: var(--fill-color);\n",
              "      border-top-color: var(--fill-color);\n",
              "    }\n",
              "    60% {\n",
              "      border-color: transparent;\n",
              "      border-right-color: var(--fill-color);\n",
              "    }\n",
              "    80% {\n",
              "      border-color: transparent;\n",
              "      border-right-color: var(--fill-color);\n",
              "      border-bottom-color: var(--fill-color);\n",
              "    }\n",
              "    90% {\n",
              "      border-color: transparent;\n",
              "      border-bottom-color: var(--fill-color);\n",
              "    }\n",
              "  }\n",
              "</style>\n",
              "\n",
              "  <script>\n",
              "    async function quickchart(key) {\n",
              "      const quickchartButtonEl =\n",
              "        document.querySelector('#' + key + ' button');\n",
              "      quickchartButtonEl.disabled = true;  // To prevent multiple clicks.\n",
              "      quickchartButtonEl.classList.add('colab-df-spinner');\n",
              "      try {\n",
              "        const charts = await google.colab.kernel.invokeFunction(\n",
              "            'suggestCharts', [key], {});\n",
              "      } catch (error) {\n",
              "        console.error('Error during call to suggestCharts:', error);\n",
              "      }\n",
              "      quickchartButtonEl.classList.remove('colab-df-spinner');\n",
              "      quickchartButtonEl.classList.add('colab-df-quickchart-complete');\n",
              "    }\n",
              "    (() => {\n",
              "      let quickchartButtonEl =\n",
              "        document.querySelector('#df-d4acd899-9c6c-4e7c-8b89-5be879921d73 button');\n",
              "      quickchartButtonEl.style.display =\n",
              "        google.colab.kernel.accessAllowed ? 'block' : 'none';\n",
              "    })();\n",
              "  </script>\n",
              "</div>\n",
              "    </div>\n",
              "  </div>\n"
            ]
          },
          "metadata": {},
          "execution_count": 1023
        }
      ]
    },
    {
      "cell_type": "code",
      "source": [
        "unique_counts = df['Age Bins'].value_counts()\n",
        "print(unique_counts)"
      ],
      "metadata": {
        "colab": {
          "base_uri": "https://localhost:8080/"
        },
        "id": "vRWx1L4ZE4Ee",
        "outputId": "47ea1a17-fcb8-4190-9c78-310850429aab"
      },
      "execution_count": 1024,
      "outputs": [
        {
          "output_type": "stream",
          "name": "stdout",
          "text": [
            "(26.0, 28.0]    583\n",
            "(22.0, 26.0]    548\n",
            "(33.0, 37.0]    468\n",
            "(37.0, 41.0]    426\n",
            "(28.0, 30.0]    366\n",
            "(30.0, 33.0]    342\n",
            "Name: Age Bins, dtype: int64\n"
          ]
        }
      ]
    },
    {
      "cell_type": "code",
      "source": [
        "# Calculate the counts of each age bin category\n",
        "age_bin_counts = df['Age Bins'].value_counts()\n",
        "\n",
        "# Sort the counts by index (i.e., the category labels)\n",
        "age_bin_counts = age_bin_counts.sort_index()\n",
        "\n",
        "# Create a bar plot\n",
        "plt.figure(figsize=(5,3))\n",
        "age_bin_counts.plot(kind='bar', color='skyblue', edgecolor='black')\n",
        "plt.title('Age Bins Distribution')\n",
        "plt.xlabel('Age Bins')\n",
        "plt.ylabel('Count')\n",
        "plt.xticks(rotation=45)  # Rotate x-axis labels for better readability\n",
        "plt.show()\n"
      ],
      "metadata": {
        "colab": {
          "base_uri": "https://localhost:8080/",
          "height": 386
        },
        "id": "BNauEVUZjLaw",
        "outputId": "b467f027-cc80-4abf-a5ab-18a9b800cbed"
      },
      "execution_count": 1025,
      "outputs": [
        {
          "output_type": "display_data",
          "data": {
            "text/plain": [
              "<Figure size 500x300 with 1 Axes>"
            ],
            "image/png": "[encoded data removed]"
          },
          "metadata": {}
        }
      ]
    },
    {
      "cell_type": "code",
      "source": [
        "# Drop the 'JoiningYear' column\n",
        "df.drop(columns=['Age'], inplace=True)"
      ],
      "metadata": {
        "id": "wyRBveHwXQ92"
      },
      "execution_count": 1026,
      "outputs": []
    },
    {
      "cell_type": "markdown",
      "source": [
        "## Encoding for Age and PaymentTier columns"
      ],
      "metadata": {
        "id": "G_ANSRZ1XBHA"
      }
    },
    {
      "cell_type": "code",
      "source": [
        "# Perform one-hot encoding on the 'Age Bins' column\n",
        "df = pd.get_dummies(df, columns=['Age Bins'], prefix='AgeBin')"
      ],
      "metadata": {
        "id": "ubp0h7incYtA"
      },
      "execution_count": 1027,
      "outputs": []
    },
    {
      "cell_type": "code",
      "source": [
        "# Perform one-hot encoding on the 'PaymentTier' column\n",
        "df = pd.get_dummies(df, columns=['PaymentTier'], prefix='PaymentTier')"
      ],
      "metadata": {
        "id": "-oFvChDdW6Jm"
      },
      "execution_count": 1028,
      "outputs": []
    },
    {
      "cell_type": "code",
      "source": [
        "df.head()"
      ],
      "metadata": {
        "colab": {
          "base_uri": "https://localhost:8080/",
          "height": 273
        },
        "id": "8zNmnlpwXckk",
        "outputId": "8997b705-9ad2-45eb-8466-9f463fe698b0"
      },
      "execution_count": 1029,
      "outputs": [
        {
          "output_type": "execute_result",
          "data": {
            "text/plain": [
              "   ExperienceInCurrentDomain  LeaveOrNot  YearsSinceJoining  \\\n",
              "0                  -1.642132       False          -1.012701   \n",
              "1                   0.220853        True           1.108637   \n",
              "2                  -0.400142       False           0.578303   \n",
              "3                   1.462843        True          -0.482367   \n",
              "4                  -0.400142        True          -1.012701   \n",
              "\n",
              "   Education_Bachelors  Education_Masters  Education_PHD  City_Bangalore  \\\n",
              "0                    1                  0              0               1   \n",
              "1                    1                  0              0               0   \n",
              "2                    1                  0              0               0   \n",
              "3                    0                  1              0               1   \n",
              "4                    0                  1              0               0   \n",
              "\n",
              "   City_New Delhi  City_Pune  Gender_Female  ...  EverBenched_Yes  \\\n",
              "0               0          0              0  ...                0   \n",
              "1               0          1              1  ...                0   \n",
              "2               1          0              1  ...                0   \n",
              "3               0          0              0  ...                0   \n",
              "4               0          1              0  ...                1   \n",
              "\n",
              "   AgeBin_(22.0, 26.0]  AgeBin_(26.0, 28.0]  AgeBin_(28.0, 30.0]  \\\n",
              "0                    0                    0                    0   \n",
              "1                    0                    1                    0   \n",
              "2                    0                    0                    0   \n",
              "3                    0                    1                    0   \n",
              "4                    1                    0                    0   \n",
              "\n",
              "   AgeBin_(30.0, 33.0]  AgeBin_(33.0, 37.0]  AgeBin_(37.0, 41.0]  \\\n",
              "0                    0                    1                    0   \n",
              "1                    0                    0                    0   \n",
              "2                    0                    0                    1   \n",
              "3                    0                    0                    0   \n",
              "4                    0                    0                    0   \n",
              "\n",
              "   PaymentTier_1  PaymentTier_2  PaymentTier_3  \n",
              "0              0              0              1  \n",
              "1              1              0              0  \n",
              "2              0              0              1  \n",
              "3              0              0              1  \n",
              "4              0              0              1  \n",
              "\n",
              "[5 rows x 22 columns]"
            ],
            "text/html": [
              "\n",
              "  <div id=\"df-efccea1e-6a96-4c65-8ffc-ad77efa92547\" class=\"colab-df-container\">\n",
              "    <div>\n",
              "<style scoped>\n",
              "    .dataframe tbody tr th:only-of-type {\n",
              "        vertical-align: middle;\n",
              "    }\n",
              "\n",
              "    .dataframe tbody tr th {\n",
              "        vertical-align: top;\n",
              "    }\n",
              "\n",
              "    .dataframe thead th {\n",
              "        text-align: right;\n",
              "    }\n",
              "</style>\n",
              "<table border=\"1\" class=\"dataframe\">\n",
              "  <thead>\n",
              "    <tr style=\"text-align: right;\">\n",
              "      <th></th>\n",
              "      <th>ExperienceInCurrentDomain</th>\n",
              "      <th>LeaveOrNot</th>\n",
              "      <th>YearsSinceJoining</th>\n",
              "      <th>Education_Bachelors</th>\n",
              "      <th>Education_Masters</th>\n",
              "      <th>Education_PHD</th>\n",
              "      <th>City_Bangalore</th>\n",
              "      <th>City_New Delhi</th>\n",
              "      <th>City_Pune</th>\n",
              "      <th>Gender_Female</th>\n",
              "      <th>...</th>\n",
              "      <th>EverBenched_Yes</th>\n",
              "      <th>AgeBin_(22.0, 26.0]</th>\n",
              "      <th>AgeBin_(26.0, 28.0]</th>\n",
              "      <th>AgeBin_(28.0, 30.0]</th>\n",
              "      <th>AgeBin_(30.0, 33.0]</th>\n",
              "      <th>AgeBin_(33.0, 37.0]</th>\n",
              "      <th>AgeBin_(37.0, 41.0]</th>\n",
              "      <th>PaymentTier_1</th>\n",
              "      <th>PaymentTier_2</th>\n",
              "      <th>PaymentTier_3</th>\n",
              "    </tr>\n",
              "  </thead>\n",
              "  <tbody>\n",
              "    <tr>\n",
              "      <th>0</th>\n",
              "      <td>-1.642132</td>\n",
              "      <td>False</td>\n",
              "      <td>-1.012701</td>\n",
              "      <td>1</td>\n",
              "      <td>0</td>\n",
              "      <td>0</td>\n",
              "      <td>1</td>\n",
              "      <td>0</td>\n",
              "      <td>0</td>\n",
              "      <td>0</td>\n",
              "      <td>...</td>\n",
              "      <td>0</td>\n",
              "      <td>0</td>\n",
              "      <td>0</td>\n",
              "      <td>0</td>\n",
              "      <td>0</td>\n",
              "      <td>1</td>\n",
              "      <td>0</td>\n",
              "      <td>0</td>\n",
              "      <td>0</td>\n",
              "      <td>1</td>\n",
              "    </tr>\n",
              "    <tr>\n",
              "      <th>1</th>\n",
              "      <td>0.220853</td>\n",
              "      <td>True</td>\n",
              "      <td>1.108637</td>\n",
              "      <td>1</td>\n",
              "      <td>0</td>\n",
              "      <td>0</td>\n",
              "      <td>0</td>\n",
              "      <td>0</td>\n",
              "      <td>1</td>\n",
              "      <td>1</td>\n",
              "      <td>...</td>\n",
              "      <td>0</td>\n",
              "      <td>0</td>\n",
              "      <td>1</td>\n",
              "      <td>0</td>\n",
              "      <td>0</td>\n",
              "      <td>0</td>\n",
              "      <td>0</td>\n",
              "      <td>1</td>\n",
              "      <td>0</td>\n",
              "      <td>0</td>\n",
              "    </tr>\n",
              "    <tr>\n",
              "      <th>2</th>\n",
              "      <td>-0.400142</td>\n",
              "      <td>False</td>\n",
              "      <td>0.578303</td>\n",
              "      <td>1</td>\n",
              "      <td>0</td>\n",
              "      <td>0</td>\n",
              "      <td>0</td>\n",
              "      <td>1</td>\n",
              "      <td>0</td>\n",
              "      <td>1</td>\n",
              "      <td>...</td>\n",
              "      <td>0</td>\n",
              "      <td>0</td>\n",
              "      <td>0</td>\n",
              "      <td>0</td>\n",
              "      <td>0</td>\n",
              "      <td>0</td>\n",
              "      <td>1</td>\n",
              "      <td>0</td>\n",
              "      <td>0</td>\n",
              "      <td>1</td>\n",
              "    </tr>\n",
              "    <tr>\n",
              "      <th>3</th>\n",
              "      <td>1.462843</td>\n",
              "      <td>True</td>\n",
              "      <td>-0.482367</td>\n",
              "      <td>0</td>\n",
              "      <td>1</td>\n",
              "      <td>0</td>\n",
              "      <td>1</td>\n",
              "      <td>0</td>\n",
              "      <td>0</td>\n",
              "      <td>0</td>\n",
              "      <td>...</td>\n",
              "      <td>0</td>\n",
              "      <td>0</td>\n",
              "      <td>1</td>\n",
              "      <td>0</td>\n",
              "      <td>0</td>\n",
              "      <td>0</td>\n",
              "      <td>0</td>\n",
              "      <td>0</td>\n",
              "      <td>0</td>\n",
              "      <td>1</td>\n",
              "    </tr>\n",
              "    <tr>\n",
              "      <th>4</th>\n",
              "      <td>-0.400142</td>\n",
              "      <td>True</td>\n",
              "      <td>-1.012701</td>\n",
              "      <td>0</td>\n",
              "      <td>1</td>\n",
              "      <td>0</td>\n",
              "      <td>0</td>\n",
              "      <td>0</td>\n",
              "      <td>1</td>\n",
              "      <td>0</td>\n",
              "      <td>...</td>\n",
              "      <td>1</td>\n",
              "      <td>1</td>\n",
              "      <td>0</td>\n",
              "      <td>0</td>\n",
              "      <td>0</td>\n",
              "      <td>0</td>\n",
              "      <td>0</td>\n",
              "      <td>0</td>\n",
              "      <td>0</td>\n",
              "      <td>1</td>\n",
              "    </tr>\n",
              "  </tbody>\n",
              "</table>\n",
              "<p>5 rows × 22 columns</p>\n",
              "</div>\n",
              "    <div class=\"colab-df-buttons\">\n",
              "\n",
              "  <div class=\"colab-df-container\">\n",
              "    <button class=\"colab-df-convert\" onclick=\"convertToInteractive('df-efccea1e-6a96-4c65-8ffc-ad77efa92547')\"\n",
              "            title=\"Convert this dataframe to an interactive table.\"\n",
              "            style=\"display:none;\">\n",
              "\n",
              "  <svg xmlns=\"http://www.w3.org/2000/svg\" height=\"24px\" viewBox=\"0 -960 960 960\">\n",
              "    <path d=\"M120-120v-720h720v720H120Zm60-500h600v-160H180v160Zm220 220h160v-160H400v160Zm0 220h160v-160H400v160ZM180-400h160v-160H180v160Zm440 0h160v-160H620v160ZM180-180h160v-160H180v160Zm440 0h160v-160H620v160Z\"/>\n",
              "  </svg>\n",
              "    </button>\n",
              "\n",
              "  <style>\n",
              "    .colab-df-container {\n",
              "      display:flex;\n",
              "      gap: 12px;\n",
              "    }\n",
              "\n",
              "    .colab-df-convert {\n",
              "      background-color: #E8F0FE;\n",
              "      border: none;\n",
              "      border-radius: 50%;\n",
              "      cursor: pointer;\n",
              "      display: none;\n",
              "      fill: #1967D2;\n",
              "      height: 32px;\n",
              "      padding: 0 0 0 0;\n",
              "      width: 32px;\n",
              "    }\n",
              "\n",
              "    .colab-df-convert:hover {\n",
              "      background-color: #E2EBFA;\n",
              "      box-shadow: 0px 1px 2px rgba(60, 64, 67, 0.3), 0px 1px 3px 1px rgba(60, 64, 67, 0.15);\n",
              "      fill: #174EA6;\n",
              "    }\n",
              "\n",
              "    .colab-df-buttons div {\n",
              "      margin-bottom: 4px;\n",
              "    }\n",
              "\n",
              "    [theme=dark] .colab-df-convert {\n",
              "      background-color: #3B4455;\n",
              "      fill: #D2E3FC;\n",
              "    }\n",
              "\n",
              "    [theme=dark] .colab-df-convert:hover {\n",
              "      background-color: #434B5C;\n",
              "      box-shadow: 0px 1px 3px 1px rgba(0, 0, 0, 0.15);\n",
              "      filter: drop-shadow(0px 1px 2px rgba(0, 0, 0, 0.3));\n",
              "      fill: #FFFFFF;\n",
              "    }\n",
              "  </style>\n",
              "\n",
              "    <script>\n",
              "      const buttonEl =\n",
              "        document.querySelector('#df-efccea1e-6a96-4c65-8ffc-ad77efa92547 button.colab-df-convert');\n",
              "      buttonEl.style.display =\n",
              "        google.colab.kernel.accessAllowed ? 'block' : 'none';\n",
              "\n",
              "      async function convertToInteractive(key) {\n",
              "        const element = document.querySelector('#df-efccea1e-6a96-4c65-8ffc-ad77efa92547');\n",
              "        const dataTable =\n",
              "          await google.colab.kernel.invokeFunction('convertToInteractive',\n",
              "                                                    [key], {});\n",
              "        if (!dataTable) return;\n",
              "\n",
              "        const docLinkHtml = 'Like what you see? Visit the ' +\n",
              "          '<a target=\"_blank\" href=https://colab.research.google.com/notebooks/data_table.ipynb>data table notebook</a>'\n",
              "          + ' to learn more about interactive tables.';\n",
              "        element.innerHTML = '';\n",
              "        dataTable['output_type'] = 'display_data';\n",
              "        await google.colab.output.renderOutput(dataTable, element);\n",
              "        const docLink = document.createElement('div');\n",
              "        docLink.innerHTML = docLinkHtml;\n",
              "        element.appendChild(docLink);\n",
              "      }\n",
              "    </script>\n",
              "  </div>\n",
              "\n",
              "\n",
              "<div id=\"df-b159303d-0c59-468f-bc9c-149981fe7ace\">\n",
              "  <button class=\"colab-df-quickchart\" onclick=\"quickchart('df-b159303d-0c59-468f-bc9c-149981fe7ace')\"\n",
              "            title=\"Suggest charts.\"\n",
              "            style=\"display:none;\">\n",
              "\n",
              "<svg xmlns=\"http://www.w3.org/2000/svg\" height=\"24px\"viewBox=\"0 0 24 24\"\n",
              "     width=\"24px\">\n",
              "    <g>\n",
              "        <path d=\"M19 3H5c-1.1 0-2 .9-2 2v14c0 1.1.9 2 2 2h14c1.1 0 2-.9 2-2V5c0-1.1-.9-2-2-2zM9 17H7v-7h2v7zm4 0h-2V7h2v10zm4 0h-2v-4h2v4z\"/>\n",
              "    </g>\n",
              "</svg>\n",
              "  </button>\n",
              "\n",
              "<style>\n",
              "  .colab-df-quickchart {\n",
              "      --bg-color: #E8F0FE;\n",
              "      --fill-color: #1967D2;\n",
              "      --hover-bg-color: #E2EBFA;\n",
              "      --hover-fill-color: #174EA6;\n",
              "      --disabled-fill-color: #AAA;\n",
              "      --disabled-bg-color: #DDD;\n",
              "  }\n",
              "\n",
              "  [theme=dark] .colab-df-quickchart {\n",
              "      --bg-color: #3B4455;\n",
              "      --fill-color: #D2E3FC;\n",
              "      --hover-bg-color: #434B5C;\n",
              "      --hover-fill-color: #FFFFFF;\n",
              "      --disabled-bg-color: #3B4455;\n",
              "      --disabled-fill-color: #666;\n",
              "  }\n",
              "\n",
              "  .colab-df-quickchart {\n",
              "    background-color: var(--bg-color);\n",
              "    border: none;\n",
              "    border-radius: 50%;\n",
              "    cursor: pointer;\n",
              "    display: none;\n",
              "    fill: var(--fill-color);\n",
              "    height: 32px;\n",
              "    padding: 0;\n",
              "    width: 32px;\n",
              "  }\n",
              "\n",
              "  .colab-df-quickchart:hover {\n",
              "    background-color: var(--hover-bg-color);\n",
              "    box-shadow: 0 1px 2px rgba(60, 64, 67, 0.3), 0 1px 3px 1px rgba(60, 64, 67, 0.15);\n",
              "    fill: var(--button-hover-fill-color);\n",
              "  }\n",
              "\n",
              "  .colab-df-quickchart-complete:disabled,\n",
              "  .colab-df-quickchart-complete:disabled:hover {\n",
              "    background-color: var(--disabled-bg-color);\n",
              "    fill: var(--disabled-fill-color);\n",
              "    box-shadow: none;\n",
              "  }\n",
              "\n",
              "  .colab-df-spinner {\n",
              "    border: 2px solid var(--fill-color);\n",
              "    border-color: transparent;\n",
              "    border-bottom-color: var(--fill-color);\n",
              "    animation:\n",
              "      spin 1s steps(1) infinite;\n",
              "  }\n",
              "\n",
              "  @keyframes spin {\n",
              "    0% {\n",
              "      border-color: transparent;\n",
              "      border-bottom-color: var(--fill-color);\n",
              "      border-left-color: var(--fill-color);\n",
              "    }\n",
              "    20% {\n",
              "      border-color: transparent;\n",
              "      border-left-color: var(--fill-color);\n",
              "      border-top-color: var(--fill-color);\n",
              "    }\n",
              "    30% {\n",
              "      border-color: transparent;\n",
              "      border-left-color: var(--fill-color);\n",
              "      border-top-color: var(--fill-color);\n",
              "      border-right-color: var(--fill-color);\n",
              "    }\n",
              "    40% {\n",
              "      border-color: transparent;\n",
              "      border-right-color: var(--fill-color);\n",
              "      border-top-color: var(--fill-color);\n",
              "    }\n",
              "    60% {\n",
              "      border-color: transparent;\n",
              "      border-right-color: var(--fill-color);\n",
              "    }\n",
              "    80% {\n",
              "      border-color: transparent;\n",
              "      border-right-color: var(--fill-color);\n",
              "      border-bottom-color: var(--fill-color);\n",
              "    }\n",
              "    90% {\n",
              "      border-color: transparent;\n",
              "      border-bottom-color: var(--fill-color);\n",
              "    }\n",
              "  }\n",
              "</style>\n",
              "\n",
              "  <script>\n",
              "    async function quickchart(key) {\n",
              "      const quickchartButtonEl =\n",
              "        document.querySelector('#' + key + ' button');\n",
              "      quickchartButtonEl.disabled = true;  // To prevent multiple clicks.\n",
              "      quickchartButtonEl.classList.add('colab-df-spinner');\n",
              "      try {\n",
              "        const charts = await google.colab.kernel.invokeFunction(\n",
              "            'suggestCharts', [key], {});\n",
              "      } catch (error) {\n",
              "        console.error('Error during call to suggestCharts:', error);\n",
              "      }\n",
              "      quickchartButtonEl.classList.remove('colab-df-spinner');\n",
              "      quickchartButtonEl.classList.add('colab-df-quickchart-complete');\n",
              "    }\n",
              "    (() => {\n",
              "      let quickchartButtonEl =\n",
              "        document.querySelector('#df-b159303d-0c59-468f-bc9c-149981fe7ace button');\n",
              "      quickchartButtonEl.style.display =\n",
              "        google.colab.kernel.accessAllowed ? 'block' : 'none';\n",
              "    })();\n",
              "  </script>\n",
              "</div>\n",
              "    </div>\n",
              "  </div>\n"
            ]
          },
          "metadata": {},
          "execution_count": 1029
        }
      ]
    },
    {
      "cell_type": "code",
      "source": [
        "df.info()"
      ],
      "metadata": {
        "colab": {
          "base_uri": "https://localhost:8080/"
        },
        "id": "Whxqr6e1mvcW",
        "outputId": "77319b0e-ef9c-4dce-e6fc-5afc6832f30c"
      },
      "execution_count": 1030,
      "outputs": [
        {
          "output_type": "stream",
          "name": "stdout",
          "text": [
            "<class 'pandas.core.frame.DataFrame'>\n",
            "Int64Index: 2764 entries, 0 to 4651\n",
            "Data columns (total 22 columns):\n",
            " #   Column                     Non-Null Count  Dtype  \n",
            "---  ------                     --------------  -----  \n",
            " 0   ExperienceInCurrentDomain  2764 non-null   float64\n",
            " 1   LeaveOrNot                 2764 non-null   bool   \n",
            " 2   YearsSinceJoining          2764 non-null   float64\n",
            " 3   Education_Bachelors        2764 non-null   uint8  \n",
            " 4   Education_Masters          2764 non-null   uint8  \n",
            " 5   Education_PHD              2764 non-null   uint8  \n",
            " 6   City_Bangalore             2764 non-null   uint8  \n",
            " 7   City_New Delhi             2764 non-null   uint8  \n",
            " 8   City_Pune                  2764 non-null   uint8  \n",
            " 9   Gender_Female              2764 non-null   uint8  \n",
            " 10  Gender_Male                2764 non-null   uint8  \n",
            " 11  EverBenched_No             2764 non-null   uint8  \n",
            " 12  EverBenched_Yes            2764 non-null   uint8  \n",
            " 13  AgeBin_(22.0, 26.0]        2764 non-null   uint8  \n",
            " 14  AgeBin_(26.0, 28.0]        2764 non-null   uint8  \n",
            " 15  AgeBin_(28.0, 30.0]        2764 non-null   uint8  \n",
            " 16  AgeBin_(30.0, 33.0]        2764 non-null   uint8  \n",
            " 17  AgeBin_(33.0, 37.0]        2764 non-null   uint8  \n",
            " 18  AgeBin_(37.0, 41.0]        2764 non-null   uint8  \n",
            " 19  PaymentTier_1              2764 non-null   uint8  \n",
            " 20  PaymentTier_2              2764 non-null   uint8  \n",
            " 21  PaymentTier_3              2764 non-null   uint8  \n",
            "dtypes: bool(1), float64(2), uint8(19)\n",
            "memory usage: 118.8 KB\n"
          ]
        }
      ]
    },
    {
      "cell_type": "markdown",
      "source": [
        "# Question b => MLP model"
      ],
      "metadata": {
        "id": "P2HdfnsmzC2o"
      }
    },
    {
      "cell_type": "code",
      "source": [
        "import torch\n",
        "import torch.nn as nn #neural network module\n",
        "import torch.optim as optim #optimizer\n",
        "from sklearn.model_selection import train_test_split\n",
        "from sklearn.preprocessing import StandardScaler\n",
        "from sklearn.datasets import load_iris\n",
        "from sklearn.metrics import accuracy_score, precision_score, recall_score, f1_score, confusion_matrix\n",
        "from torch.utils.tensorboard import SummaryWriter"
      ],
      "metadata": {
        "id": "0gruqPcvY1aK"
      },
      "execution_count": 1031,
      "outputs": []
    },
    {
      "cell_type": "markdown",
      "source": [
        "## Step 1 - Data Preparation"
      ],
      "metadata": {
        "id": "vdIUkNp_dyj2"
      }
    },
    {
      "cell_type": "markdown",
      "source": [
        "### Setting X and Y columns"
      ],
      "metadata": {
        "id": "Ro4ReBa6aNJY"
      }
    },
    {
      "cell_type": "code",
      "source": [
        "X = df.drop(columns=['LeaveOrNot'])  # X contains all columns except 'LeaveOrNot'\n",
        "y = df['LeaveOrNot']  # Y contains only the 'LeaveOrNot' column - Target variable - Predicting employee Leave or Not"
      ],
      "metadata": {
        "id": "wYQOt7qTaU_v"
      },
      "execution_count": 1032,
      "outputs": []
    },
    {
      "cell_type": "markdown",
      "source": [
        "### Splitting dataset for training and testing"
      ],
      "metadata": {
        "id": "4-J07URgbmHk"
      }
    },
    {
      "cell_type": "code",
      "source": [
        "# In this case, 80% of the data is used for training, and 20% is reserved for testing.\n",
        "X_train, X_test, y_train, y_test = train_test_split(X, y, test_size=0.2, random_state=42)"
      ],
      "metadata": {
        "id": "Ges-i3aBbssH"
      },
      "execution_count": 1033,
      "outputs": []
    },
    {
      "cell_type": "markdown",
      "source": [
        "### Apply SMOTE Technique to address class imbalance issue"
      ],
      "metadata": {
        "id": "zITz9WGdJ9Mq"
      }
    },
    {
      "cell_type": "code",
      "source": [
        "from imblearn.over_sampling import SMOTE\n",
        "\n",
        "# Initialize SMOTE\n",
        "smote = SMOTE(sampling_strategy='auto', random_state=42)\n",
        "\n",
        "# Apply SMOTE to generate synthetic samples\n",
        "X_train, y_train = smote.fit_resample(X_train, y_train)"
      ],
      "metadata": {
        "id": "6QM28ZzZJXzs"
      },
      "execution_count": 1034,
      "outputs": []
    },
    {
      "cell_type": "markdown",
      "source": [
        "### Converting to Tensors datatype in pytorch"
      ],
      "metadata": {
        "id": "RWyVeFqUdIPF"
      }
    },
    {
      "cell_type": "code",
      "source": [
        "# Convert the training and testing data to numpy arrays - Since we are unable to convert dataframe to pytorch tensors directly\n",
        "X_train = X_train.to_numpy()\n",
        "y_train = y_train.to_numpy()\n",
        "X_test = X_test.to_numpy()\n",
        "y_test = y_test.to_numpy()"
      ],
      "metadata": {
        "id": "YyRUH3pjl6ep"
      },
      "execution_count": 1035,
      "outputs": []
    },
    {
      "cell_type": "code",
      "source": [
        "# Converting into corresponding tensors in pytorch - because does not work with numpy\n",
        "X_train = torch.FloatTensor(X_train)\n",
        "y_train = torch.FloatTensor(y_train)\n",
        "X_test = torch.FloatTensor(X_test)\n",
        "y_test = torch.FloatTensor(y_test)"
      ],
      "metadata": {
        "id": "lBrjZHiSwpQv"
      },
      "execution_count": 1036,
      "outputs": []
    },
    {
      "cell_type": "code",
      "source": [
        "# Create a SummaryWriter to log data for TensorBoard\n",
        "writer = SummaryWriter()"
      ],
      "metadata": {
        "id": "RDNDpxL-d7ht"
      },
      "execution_count": 1037,
      "outputs": []
    },
    {
      "cell_type": "markdown",
      "source": [
        "## Step 2: Define the MLP Model - Multi Layer Perceptron Model"
      ],
      "metadata": {
        "id": "82Rs4TgleSI9"
      }
    },
    {
      "cell_type": "markdown",
      "source": [
        "The following code defines an MLP with two layers: one hidden layer and one output layer."
      ],
      "metadata": {
        "id": "6nN1tjo_e60C"
      }
    },
    {
      "cell_type": "code",
      "source": [
        "class MLP(nn.Module):\n",
        "\n",
        "    # Inside the constructor (__init__ method), you define the architecture of your neural network.\n",
        "\n",
        "    # input_size: The number of features in input data.\n",
        "    # hidden_size: The number of neurons in hidden layer.\n",
        "    # num_classes: The number of output classes or categories in classification task - Neurons in output layer.\n",
        "\n",
        "    def __init__(self, input_size, hidden_size, num_classes):\n",
        "        super(MLP, self).__init__()\n",
        "\n",
        "        # Layer Definitions:\n",
        "\n",
        "        # This line defines the first fully connected (linear) layer. It takes the input features, which have input_size dimensions, and transforms them into hidden_size dimensions.\n",
        "        self.fc1 = nn.Linear(input_size, hidden_size)\n",
        "\n",
        "        # This line defines the activation function used after the first linear layer. In this case, it's the Rectified Linear Unit (ReLU) activation function, which introduces non-linearity into the network.\n",
        "        self.activation1 = nn.ReLU()\n",
        "\n",
        "        # Weight initialization for layer 1 - He method for ReLu activation function\n",
        "        torch.torch.nn.init.kaiming_uniform_(self.fc1.weight, nonlinearity='relu')\n",
        "\n",
        "        #  This line defines the second fully connected (linear) layer. It takes the output of the hidden layer, which has hidden_size dimensions, and transforms it into num_classes dimensions.\n",
        "        self.fc2 = nn.Linear(hidden_size, num_classes)\n",
        "\n",
        "        #Since output layer contains 1 neuron - binary classification task, we are using sigmoid activation function (default one is softmax)\n",
        "        self.activation2 = nn.Sigmoid()\n",
        "\n",
        "        # Weight initialization for layer 2 - Xavier method for sigmoid activation function\n",
        "        torch.nn.init.xavier_uniform_(self.fc2.weight)\n",
        "\n",
        "    # In the forward method, defining forward pass of neural network.\n",
        "    def forward(self, x):\n",
        "        x = self.fc1(x)\n",
        "        x = self.activation1(x)\n",
        "        x = self.fc2(x)\n",
        "        x = self.activation2(x)\n",
        "        return x"
      ],
      "metadata": {
        "id": "nsUc9DO3riIF"
      },
      "execution_count": 1038,
      "outputs": []
    },
    {
      "cell_type": "code",
      "source": [
        "input_size = X_train.shape[1]\n",
        "hidden_size =256\n",
        "num_classes = 1 #how many neurons in the output layer\n",
        "#if no of unique values in Y greater than 2 - then no.of neurons=no.of unique values, but if it is 2 - then both 1 and 2 neurons are possible in output layer\n",
        "\n",
        "# Instance of the MLP class is created.\n",
        "model = MLP(input_size, hidden_size, num_classes)"
      ],
      "metadata": {
        "id": "W1v8GdQ8koTV"
      },
      "execution_count": 1039,
      "outputs": []
    },
    {
      "cell_type": "markdown",
      "source": [
        "## Step 3: Define a Loss Function"
      ],
      "metadata": {
        "id": "YOOEQMHfl6Bx"
      }
    },
    {
      "cell_type": "code",
      "source": [
        "#if num_classes more than 2, it should be crossEntropy loss, but for this case it should be binary cross entrophy loss - since num_classes = 1\n",
        "criterion = nn.BCELoss()"
      ],
      "metadata": {
        "id": "eIGvVZmnmYPA"
      },
      "execution_count": 1040,
      "outputs": []
    },
    {
      "cell_type": "markdown",
      "source": [
        "## Step 4: Choose an Optimizer"
      ],
      "metadata": {
        "id": "EB_XqKxxmx_s"
      }
    },
    {
      "cell_type": "code",
      "source": [
        "#SGD - Stochastic Gradient Decent is used\n",
        "# lr (learning rate)\n",
        "optimizer = optim.SGD(model.parameters(), lr=0.0001, momentum=0.9)"
      ],
      "metadata": {
        "id": "419rbOF7m-Co"
      },
      "execution_count": 1041,
      "outputs": []
    },
    {
      "cell_type": "markdown",
      "source": [
        "## Step 5: Training Loop"
      ],
      "metadata": {
        "id": "s0JKLgNhnAS-"
      }
    },
    {
      "cell_type": "code",
      "source": [
        "num_epochs = 300\n",
        "for epoch in range(num_epochs):\n",
        "    outputs = model(X_train)\n",
        "    loss = criterion(outputs, y_train.view(-1, 1))\n",
        "    #delta w needs to be zero before you start calculation, otherwise old delta w values also will be added\n",
        "    optimizer.zero_grad()\n",
        "    loss.backward()\n",
        "    optimizer.step()\n",
        "\n",
        "    # Log the loss for each epoch\n",
        "    writer.add_scalar('Loss/train', loss.item(), epoch)"
      ],
      "metadata": {
        "id": "DvIn4rPinMXA"
      },
      "execution_count": 1042,
      "outputs": []
    },
    {
      "cell_type": "markdown",
      "source": [
        "## Step 6: Evaluation - Inference"
      ],
      "metadata": {
        "id": "PaOkC5LDnPTx"
      }
    },
    {
      "cell_type": "markdown",
      "source": [
        "Since it's an inferencing task any parameters should not be changed"
      ],
      "metadata": {
        "id": "ePqx2t2nn1ro"
      }
    },
    {
      "cell_type": "code",
      "source": [
        "threshold = 0.5  # Set your desired threshold value\n",
        "\n",
        "with torch.no_grad():\n",
        "\n",
        "    #Set your model to evaluation mode\n",
        "    model.eval()\n",
        "\n",
        "    # Pass the input data through the model to get predictions\n",
        "    y_pred = model(X_test)\n",
        "\n",
        "    # Apply the custom threshold to the predicted probabilities\n",
        "    predicted = (y_pred >= threshold).int()\n",
        "\n",
        "    # Calculate accuracy\n",
        "    accuracy = accuracy_score(y_test, predicted)\n",
        "\n",
        "    # Calculate precision, recall, and F1-score\n",
        "    precision = precision_score(y_test, predicted, average='weighted')\n",
        "    recall = recall_score(y_test, predicted, average='weighted')\n",
        "    f1 = f1_score(y_test, predicted, average='weighted')\n",
        "\n",
        "    # Calculate the confusion matrix\n",
        "    conf_matrix = confusion_matrix(y_test, predicted)\n",
        "\n",
        "print(f\"Accuracy: {accuracy* 100:.2f}%'\")\n",
        "print(f\"Precision: {precision}\")\n",
        "print(f\"Recall: {recall* 100:.2f}%'\")\n",
        "print(f\"F1 Score: {f1}\")\n",
        "print(\"Confusion Matrix:\")\n",
        "print(conf_matrix)"
      ],
      "metadata": {
        "colab": {
          "base_uri": "https://localhost:8080/"
        },
        "id": "e1hHP8nfzZp3",
        "outputId": "f785c528-3b20-4b08-ecd5-d188b9095a4d"
      },
      "execution_count": 1046,
      "outputs": [
        {
          "output_type": "stream",
          "name": "stdout",
          "text": [
            "Accuracy: 61.12%'\n",
            "Precision: 0.6208627935172688\n",
            "Recall: 61.12%'\n",
            "F1 Score: 0.6143817124743031\n",
            "Confusion Matrix:\n",
            "[[211 122]\n",
            " [ 93 127]]\n"
          ]
        }
      ]
    },
    {
      "cell_type": "markdown",
      "source": [
        "# Question c"
      ],
      "metadata": {
        "id": "ygQD70dmzFME"
      }
    },
    {
      "cell_type": "markdown",
      "source": [
        "## Question c - 1 => Weight Initializations"
      ],
      "metadata": {
        "id": "3r7f_VKU9pqe"
      }
    },
    {
      "cell_type": "markdown",
      "source": [
        "### Zero initializations"
      ],
      "metadata": {
        "id": "Es8-8VPpvgWU"
      }
    },
    {
      "cell_type": "markdown",
      "source": [
        "\n",
        "torch.nn.init.zeros_(self.fc1.weight)\n",
        "\n",
        "torch.nn.init.zeros_(self.fc2.weight)\n",
        "\n",
        "I have changed both initialization for zero initialization and for this their **accuracy was 24%**"
      ],
      "metadata": {
        "id": "WcO4MlYbw7RT"
      }
    },
    {
      "cell_type": "markdown",
      "source": [
        "### Random initializations"
      ],
      "metadata": {
        "id": "_LUej4rGyEuS"
      }
    },
    {
      "cell_type": "markdown",
      "source": [
        "If we don't specify any weight initialization method explicitly, then PyTorch will use its default random initialization method for the linear layers.\n",
        "\n",
        "or\n",
        "\n",
        "You can specify explicitly\n",
        "\n",
        "nn.init.normal_(self.fc1.weight, mean=0, std=0.01)\n",
        "\n",
        "Adjust the mean and std parameters to control the mean and standard deviation of the distribution from which the weights are sampled.\n",
        "\n",
        "Here **accuracy is 58%**"
      ],
      "metadata": {
        "id": "KRnU2ndcyIEY"
      }
    },
    {
      "cell_type": "markdown",
      "source": [
        "### Initialization based on activation function"
      ],
      "metadata": {
        "id": "zniEje0H0N5e"
      }
    },
    {
      "cell_type": "markdown",
      "source": [
        "For ReLU activation function: I have used He initialization\n",
        "\n",
        "For Tanh, softmax and sigmoid: I have used Xavier initialization"
      ],
      "metadata": {
        "id": "lTFBrlT00TDZ"
      }
    },
    {
      "cell_type": "markdown",
      "source": [
        "For layer 1 - I have used weight initialization based on activation function I have changed\n",
        "\n",
        "torch.nn.init.kaiming_uniform_(self.fc1.weight, nonlinearity='relu')  -->> Accuracy: 74%\n",
        "\n",
        "or\n",
        "\n",
        "torch.nn.init.xavier_uniform_(self.fc2.weight)  -->> Accuracy: 63%\n",
        "\n"
      ],
      "metadata": {
        "id": "YP9zqrxT0wou"
      }
    },
    {
      "cell_type": "markdown",
      "source": [
        "## Question c - 2 => Activation Function"
      ],
      "metadata": {
        "id": "AJZFb4R89s6b"
      }
    },
    {
      "cell_type": "markdown",
      "source": [
        "Since it's a binary classification task, always I stick with Sigmoid activation for layer 2"
      ],
      "metadata": {
        "id": "NXZnRhMT2CfE"
      }
    },
    {
      "cell_type": "markdown",
      "source": [
        "For layer 1, I changed the activation functions : ReLU, Tanh, Softmax\n",
        "\n",
        "self.activation1 = nn.ReLU() -->> Accuracy: 74%\n",
        "\n",
        "self.activation1 = nn.Tanh() -->> Accuracy: 63%\n",
        "\n",
        "self.activation1 = nn.Softmax() -->> Accuracy: 56%"
      ],
      "metadata": {
        "id": "R3Ey408_2LWV"
      }
    },
    {
      "cell_type": "markdown",
      "source": [
        "## Question c - 3 => trial-error based hyper-parameter training"
      ],
      "metadata": {
        "id": "MxEcRr559wUj"
      }
    },
    {
      "cell_type": "markdown",
      "source": [
        "Hyper-parameters which I have changed and tried again and again are\n",
        "\n",
        "1) Learning rate : 0.1, 0.01, 0.05, 0.001 -->> Among them 0.01 gives me the highest accuracy\n",
        "\n",
        "2) Number of Hidden Neurons (hidden_size): 16, 32, 64, 128, and 256 -->> Among them 64 gives me the highest accuracy\n",
        "\n",
        "3) Number of epochs: 100, 150, 200, 250, 300, 500, 1000 -->> Among them 200 gives me the highest accuracy\n",
        "\n",
        "4) Momentum: Without defining, 0.8, 0.9, 0.95 -->> Among them 0.9 gives me the highest accuracy\n",
        "\n",
        "Other than this - I have increased the number of hidden layers as well - But it doesnot give any increase in accuracy - code is given below for 3 layer architecture"
      ],
      "metadata": {
        "id": "j1F0dikc364T"
      }
    },
    {
      "cell_type": "code",
      "source": [
        "# Step 2: Define the MLP Model for three layer\n",
        "\n",
        "class MLP(nn.Module):\n",
        "    def __init__(self, input_size, hidden_size1, hidden_size2, num_classes):\n",
        "        super(MLP, self).__init__()\n",
        "\n",
        "        self.fc1 = nn.Linear(input_size, hidden_size1)\n",
        "        self.activation1 = nn.ReLU()\n",
        "        torch.nn.init.kaiming_uniform_(self.fc1.weight,nonlinearity='relu') #He weight initialization\n",
        "\n",
        "        self.fc2 = nn.Linear(hidden_size1, hidden_size2)\n",
        "        self.activation2 = nn.ReLU()\n",
        "        torch.nn.init.kaiming_uniform_(self.fc1.weight,nonlinearity='relu') #He weight initialization\n",
        "\n",
        "        self.fc3 = nn.Linear(hidden_size2, num_classes)\n",
        "        self.activation3 = nn.Sigmoid()\n",
        "        torch.nn.init.xavier_uniform_(self.fc2.weight) # Xavier weight initialization\n",
        "\n",
        "    def forward(self, x):\n",
        "        x = self.fc1(x)\n",
        "        x = self.activation1(x)\n",
        "        x = self.fc2(x)\n",
        "        x = self.activation2(x)\n",
        "        x = self.fc3(x)\n",
        "        x = self.activation3(x)\n",
        "        return x"
      ],
      "metadata": {
        "id": "s8OCA0nsKg0t"
      },
      "execution_count": 1044,
      "outputs": []
    },
    {
      "cell_type": "code",
      "source": [
        "def weight_histograms_conv2d(writer, step, weights, layer_number):\n",
        "  weights_shape = weights.shape\n",
        "  num_kernels = weights_shape[0]\n",
        "  for k in range(num_kernels):\n",
        "    flattened_weights = weights[k].flatten()\n",
        "    tag = f\"layer_{layer_number}/kernel_{k}\"\n",
        "    writer.add_histogram(tag, flattened_weights, global_step=step, bins='tensorflow')\n",
        "\n",
        "\n",
        "def weight_histograms_linear(writer, step, weights, layer_number):\n",
        "  flattened_weights = weights.flatten()\n",
        "  tag = f\"layer_{layer_number}\"\n",
        "  writer.add_histogram(tag, flattened_weights, global_step=step, bins='tensorflow')\n",
        "\n",
        "\n",
        "def weight_histograms(writer, step, model):\n",
        "  # Iterate over all model layers\n",
        "  for module in model.modules():\n",
        "    if not isinstance(module, nn.Sequential):\n",
        "    #compute weight histograms for appropriate layer\n",
        "      if isinstance(module, nn.Conv2d):\n",
        "        weights = module.weight\n",
        "        weight_histograms_conv2d(writer, step, weights, module)\n",
        "      elif isinstance(module, nn.Linear):\n",
        "        weights = module.weight\n",
        "        weight_histograms_linear(writer, step, weights, module)\n",
        "        bias = module.bias\n",
        "        weight_histograms_linear(writer, step, bias, module)"
      ],
      "metadata": {
        "id": "kWHJdXRiLdPi"
      },
      "execution_count": 1045,
      "outputs": []
    },
    {
      "cell_type": "code",
      "source": [
        "input_size = X_train.shape[1]\n",
        "hidden_size1 =128\n",
        "hidden_size2 =64\n",
        "num_classes = 1\n",
        "model = MLP(input_size, hidden_size1, hidden_size2, num_classes)\n",
        "\n",
        "# Step 3: Define a Loss Function\n",
        "criterion = nn.BCELoss()\n",
        "\n",
        "# Step 4: Choose an Optimizer\n",
        "optimizer = optim.SGD(model.parameters(), lr=0.001)\n",
        "\n",
        "# Step 5: Training Loop\n",
        "num_epochs = 300\n",
        "for epoch in range(num_epochs):\n",
        "    outputs = model(X_train)\n",
        "    loss = criterion(outputs, y_train.view(-1, 1))\n",
        "    optimizer.zero_grad()\n",
        "    loss.backward()\n",
        "    optimizer.step()\n",
        "\n",
        "    # Log the loss for each epoch\n",
        "    writer.add_scalar('Loss/train', loss.item(), epoch)\n",
        "\n",
        "    # Visualize weight histograms\n",
        "    weight_histograms(writer, epoch, model)\n",
        "\n",
        "\n",
        "threshold = 0.5  # Set your desired threshold value\n",
        "\n",
        "# Step 6: Evaluation - Inference\n",
        "with torch.no_grad():\n",
        "\n",
        "    #Set your model to evaluation mode\n",
        "    model.eval()\n",
        "\n",
        "    # Pass the input data through the model to get predictions\n",
        "    y_pred = model(X_test)\n",
        "\n",
        "    # Apply the custom threshold to the predicted probabilities\n",
        "    predicted = (y_pred >= threshold).int()\n",
        "\n",
        "    # Calculate accuracy\n",
        "    accuracy = accuracy_score(y_test, predicted)\n",
        "\n",
        "    # Calculate precision, recall, and F1-score\n",
        "    precision = precision_score(y_test, predicted, average='weighted')\n",
        "    recall = recall_score(y_test, predicted, average='weighted')\n",
        "    f1 = f1_score(y_test, predicted, average='weighted')\n",
        "\n",
        "    # Calculate the confusion matrix\n",
        "    conf_matrix = confusion_matrix(y_test, predicted)\n",
        "\n",
        "print(f\"Accuracy: {accuracy* 100:.2f}%'\")\n",
        "print(f\"Precision: {precision}\")\n",
        "print(f\"Recall: {recall* 100:.2f}%'\")\n",
        "print(f\"F1 Score: {f1}\")\n",
        "print(\"Confusion Matrix:\")\n",
        "print(conf_matrix)\n",
        "\n",
        "# Close the SummaryWriter\n",
        "writer.close()"
      ],
      "metadata": {
        "colab": {
          "base_uri": "https://localhost:8080/"
        },
        "id": "tbH8HI9iLQDB",
        "outputId": "1bd5fb1b-f8a2-4ed2-aa50-1ff40401287f"
      },
      "execution_count": 982,
      "outputs": [
        {
          "output_type": "stream",
          "name": "stdout",
          "text": [
            "Accuracy: 60.22%'\n",
            "Precision: 0.5844233349337473\n",
            "Recall: 60.22%'\n",
            "F1 Score: 0.5834559596942646\n",
            "Confusion Matrix:\n",
            "[[258  75]\n",
            " [145  75]]\n"
          ]
        }
      ]
    },
    {
      "cell_type": "markdown",
      "source": [
        "# Question d"
      ],
      "metadata": {
        "id": "WFs_ErxBzG2l"
      }
    },
    {
      "cell_type": "markdown",
      "source": [
        "I have evaluated based on Accuracy, Precesion, F1 score, and Recall. In addition to that I have printed confusion matrix as well in order to see true positive, false positive, true negative and fasle negative values.\n",
        "\n",
        "I have adjusted the threshold = 0.5  level to change false positve and false negative rates (misclassification).\n",
        "\n",
        "If I set threshold to 0.4, higher probability of misclassification of false positive and If I set threshold to 0.6, higher probability of misclassification of flase negative. We have to determine that based on which cost is higher -->> false positive or false negative."
      ],
      "metadata": {
        "id": "MG8yN_vZIaFl"
      }
    }
  ]
}